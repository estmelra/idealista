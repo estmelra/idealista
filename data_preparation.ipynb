{
 "cells": [
  {
   "cell_type": "markdown",
   "metadata": {},
   "source": [
    "# **Idealista data cleaning**\n",
    "*Jose Ramon Estevez Melgarejo 2022-03-10.*\n",
    "\n",
    "## Introduction\n",
    "This is the second step of my idealista portfolio´s project. \n",
    "In this notebook we will clean and structure the data we obtained with the web scraper that we created in the previous notebook called 'scraper.ipynb' located in the same repository. \n",
    "\n",
    "Data exploration has been done in advance so this notebook will just define the issues previously found and propose a way to clean or structure our data."
   ]
  },
  {
   "cell_type": "markdown",
   "metadata": {},
   "source": [
    "## 1. Importing Libraries & reading data"
   ]
  },
  {
   "cell_type": "code",
   "execution_count": 375,
   "metadata": {},
   "outputs": [],
   "source": [
    "import pandas as pd\n",
    "import numpy as np\n",
    "import re\n",
    "from collections import Counter\n",
    "import unicodedata"
   ]
  },
  {
   "cell_type": "markdown",
   "metadata": {},
   "source": [
    "The first thing we are going to do is to import our csv file that contains the scrapped data into a Pandas DataFrame that we will call 'raw_data'."
   ]
  },
  {
   "cell_type": "code",
   "execution_count": 376,
   "metadata": {},
   "outputs": [
    {
     "data": {
      "text/html": [
       "<div>\n",
       "<style scoped>\n",
       "    .dataframe tbody tr th:only-of-type {\n",
       "        vertical-align: middle;\n",
       "    }\n",
       "\n",
       "    .dataframe tbody tr th {\n",
       "        vertical-align: top;\n",
       "    }\n",
       "\n",
       "    .dataframe thead th {\n",
       "        text-align: right;\n",
       "    }\n",
       "</style>\n",
       "<table border=\"1\" class=\"dataframe\">\n",
       "  <thead>\n",
       "    <tr style=\"text-align: right;\">\n",
       "      <th></th>\n",
       "      <th>house_id</th>\n",
       "      <th>tittle</th>\n",
       "      <th>city</th>\n",
       "      <th>price_act</th>\n",
       "      <th>price_first</th>\n",
       "      <th>details_1_desc</th>\n",
       "      <th>details_2_desc</th>\n",
       "      <th>details_3_desc</th>\n",
       "      <th>advertiser</th>\n",
       "    </tr>\n",
       "  </thead>\n",
       "  <tbody>\n",
       "    <tr>\n",
       "      <th>0</th>\n",
       "      <td>94283285</td>\n",
       "      <td>Flat / apartment for sale in Zona Bahía Blanca</td>\n",
       "      <td>Cadiz</td>\n",
       "      <td>750,000</td>\n",
       "      <td>750,000</td>\n",
       "      <td>['262 m² built', '6 bedrooms', '4 bathrooms', ...</td>\n",
       "      <td>['Air conditioning', 'en trámite']</td>\n",
       "      <td>[]</td>\n",
       "      <td>Professional advertiser</td>\n",
       "    </tr>\n",
       "    <tr>\n",
       "      <th>1</th>\n",
       "      <td>89113690</td>\n",
       "      <td>Duplex for sale in Mentidero - Teatro Falla - ...</td>\n",
       "      <td>Cadiz</td>\n",
       "      <td>575,000</td>\n",
       "      <td>575,000</td>\n",
       "      <td>['135 m² built', '3 bedrooms', '3 bathrooms', ...</td>\n",
       "      <td>['en trámite']</td>\n",
       "      <td>[]</td>\n",
       "      <td>Professional advertiser</td>\n",
       "    </tr>\n",
       "    <tr>\n",
       "      <th>2</th>\n",
       "      <td>95291210</td>\n",
       "      <td>Flat / apartment for sale in Mentidero - Teatr...</td>\n",
       "      <td>Cadiz</td>\n",
       "      <td>320,000</td>\n",
       "      <td>320,000</td>\n",
       "      <td>['190 m² built', '8 bedrooms', '3 bathrooms', ...</td>\n",
       "      <td>['en trámite']</td>\n",
       "      <td>[]</td>\n",
       "      <td>Professional advertiser</td>\n",
       "    </tr>\n",
       "    <tr>\n",
       "      <th>3</th>\n",
       "      <td>96746079</td>\n",
       "      <td>Flat / apartment for sale in Urb. alameda apod...</td>\n",
       "      <td>Cadiz</td>\n",
       "      <td>390,000</td>\n",
       "      <td>390,000</td>\n",
       "      <td>['131 m² built, 117 m² floor area', '3 bedroom...</td>\n",
       "      <td>['Air conditioning', 'en trámite']</td>\n",
       "      <td>[]</td>\n",
       "      <td>Professional advertiser</td>\n",
       "    </tr>\n",
       "    <tr>\n",
       "      <th>4</th>\n",
       "      <td>96622572</td>\n",
       "      <td>Flat / apartment for sale in Urb. Playa Santa ...</td>\n",
       "      <td>Cadiz</td>\n",
       "      <td>720,000</td>\n",
       "      <td>720,000</td>\n",
       "      <td>['168 m² built, 167 m² floor area', '3 bedroom...</td>\n",
       "      <td>['en trámite']</td>\n",
       "      <td>[]</td>\n",
       "      <td>Professional advertiser</td>\n",
       "    </tr>\n",
       "  </tbody>\n",
       "</table>\n",
       "</div>"
      ],
      "text/plain": [
       "   house_id                                             tittle   city  \\\n",
       "0  94283285     Flat / apartment for sale in Zona Bahía Blanca  Cadiz   \n",
       "1  89113690  Duplex for sale in Mentidero - Teatro Falla - ...  Cadiz   \n",
       "2  95291210  Flat / apartment for sale in Mentidero - Teatr...  Cadiz   \n",
       "3  96746079  Flat / apartment for sale in Urb. alameda apod...  Cadiz   \n",
       "4  96622572  Flat / apartment for sale in Urb. Playa Santa ...  Cadiz   \n",
       "\n",
       "  price_act price_first                                     details_1_desc  \\\n",
       "0   750,000     750,000  ['262 m² built', '6 bedrooms', '4 bathrooms', ...   \n",
       "1   575,000     575,000  ['135 m² built', '3 bedrooms', '3 bathrooms', ...   \n",
       "2   320,000     320,000  ['190 m² built', '8 bedrooms', '3 bathrooms', ...   \n",
       "3   390,000     390,000  ['131 m² built, 117 m² floor area', '3 bedroom...   \n",
       "4   720,000     720,000  ['168 m² built, 167 m² floor area', '3 bedroom...   \n",
       "\n",
       "                       details_2_desc details_3_desc               advertiser  \n",
       "0  ['Air conditioning', 'en trámite']             []  Professional advertiser  \n",
       "1                      ['en trámite']             []  Professional advertiser  \n",
       "2                      ['en trámite']             []  Professional advertiser  \n",
       "3  ['Air conditioning', 'en trámite']             []  Professional advertiser  \n",
       "4                      ['en trámite']             []  Professional advertiser  "
      ]
     },
     "execution_count": 376,
     "metadata": {},
     "output_type": "execute_result"
    }
   ],
   "source": [
    "raw_data = pd.read_csv('data/raw_data_22220305.csv').drop('Unnamed: 0', axis=1) # importing and removing 'Unnamed' empty column\n",
    "raw_data.head()"
   ]
  },
  {
   "cell_type": "markdown",
   "metadata": {},
   "source": [
    "Now we are going to have a look at the over all structure of our data. We will print the shape and data types of our data frame."
   ]
  },
  {
   "cell_type": "code",
   "execution_count": 377,
   "metadata": {},
   "outputs": [
    {
     "name": "stdout",
     "output_type": "stream",
     "text": [
      "Input data has 1218 rows and 9 columns\n"
     ]
    },
    {
     "data": {
      "text/plain": [
       "house_id           int64\n",
       "tittle            object\n",
       "city              object\n",
       "price_act         object\n",
       "price_first       object\n",
       "details_1_desc    object\n",
       "details_2_desc    object\n",
       "details_3_desc    object\n",
       "advertiser        object\n",
       "dtype: object"
      ]
     },
     "execution_count": 377,
     "metadata": {},
     "output_type": "execute_result"
    }
   ],
   "source": [
    "print(f'Input data has {raw_data.shape[0]} rows and {raw_data.shape[1]} columns')\n",
    "raw_data.dtypes"
   ]
  },
  {
   "cell_type": "markdown",
   "metadata": {},
   "source": [
    "From the output above we can see that our input data has 1218 rows and 9 columns. When we load our data from a csv, Pandas tries to infer the data types of each variable depending on the content so it is very likely that we will have to change some of our variables data types later on."
   ]
  },
  {
   "cell_type": "markdown",
   "metadata": {},
   "source": [
    "Next step is to check if there are any missing values. To do so I have created a function that will be handy specially when we try to extract information from detail columns. This function will return the number and percentage of missing values for each column in our data."
   ]
  },
  {
   "cell_type": "code",
   "execution_count": 378,
   "metadata": {},
   "outputs": [
    {
     "data": {
      "text/html": [
       "<div>\n",
       "<style scoped>\n",
       "    .dataframe tbody tr th:only-of-type {\n",
       "        vertical-align: middle;\n",
       "    }\n",
       "\n",
       "    .dataframe tbody tr th {\n",
       "        vertical-align: top;\n",
       "    }\n",
       "\n",
       "    .dataframe thead th {\n",
       "        text-align: right;\n",
       "    }\n",
       "</style>\n",
       "<table border=\"1\" class=\"dataframe\">\n",
       "  <thead>\n",
       "    <tr style=\"text-align: right;\">\n",
       "      <th></th>\n",
       "      <th>variable</th>\n",
       "      <th>na_count</th>\n",
       "      <th>na_per</th>\n",
       "    </tr>\n",
       "  </thead>\n",
       "  <tbody>\n",
       "    <tr>\n",
       "      <th>0</th>\n",
       "      <td>house_id</td>\n",
       "      <td>0</td>\n",
       "      <td>0.00</td>\n",
       "    </tr>\n",
       "    <tr>\n",
       "      <th>1</th>\n",
       "      <td>tittle</td>\n",
       "      <td>0</td>\n",
       "      <td>0.00</td>\n",
       "    </tr>\n",
       "    <tr>\n",
       "      <th>2</th>\n",
       "      <td>city</td>\n",
       "      <td>0</td>\n",
       "      <td>0.00</td>\n",
       "    </tr>\n",
       "    <tr>\n",
       "      <th>3</th>\n",
       "      <td>price_act</td>\n",
       "      <td>0</td>\n",
       "      <td>0.00</td>\n",
       "    </tr>\n",
       "    <tr>\n",
       "      <th>4</th>\n",
       "      <td>price_first</td>\n",
       "      <td>0</td>\n",
       "      <td>0.00</td>\n",
       "    </tr>\n",
       "    <tr>\n",
       "      <th>5</th>\n",
       "      <td>details_1_desc</td>\n",
       "      <td>0</td>\n",
       "      <td>0.00</td>\n",
       "    </tr>\n",
       "    <tr>\n",
       "      <th>6</th>\n",
       "      <td>details_2_desc</td>\n",
       "      <td>0</td>\n",
       "      <td>0.00</td>\n",
       "    </tr>\n",
       "    <tr>\n",
       "      <th>7</th>\n",
       "      <td>details_3_desc</td>\n",
       "      <td>0</td>\n",
       "      <td>0.00</td>\n",
       "    </tr>\n",
       "    <tr>\n",
       "      <th>8</th>\n",
       "      <td>advertiser</td>\n",
       "      <td>6</td>\n",
       "      <td>0.49</td>\n",
       "    </tr>\n",
       "  </tbody>\n",
       "</table>\n",
       "</div>"
      ],
      "text/plain": [
       "         variable  na_count  na_per\n",
       "0        house_id         0    0.00\n",
       "1          tittle         0    0.00\n",
       "2            city         0    0.00\n",
       "3       price_act         0    0.00\n",
       "4     price_first         0    0.00\n",
       "5  details_1_desc         0    0.00\n",
       "6  details_2_desc         0    0.00\n",
       "7  details_3_desc         0    0.00\n",
       "8      advertiser         6    0.49"
      ]
     },
     "execution_count": 378,
     "metadata": {},
     "output_type": "execute_result"
    }
   ],
   "source": [
    "def na_detail(df):\n",
    "    '''\n",
    "    Recieves a data frame and returns a new data frame conatining theese 3 cols:\n",
    "        - variable: variables of the imput data frame\n",
    "        - na_count: sum of na \n",
    "        - na_per: % of na \n",
    "    '''\n",
    "    result = pd.DataFrame(df.isna().sum(), columns = ['na_count']).reset_index(level=0)\n",
    "    result.rename(columns={('index'): ('variable')}, inplace=True)\n",
    "    result['na_per'] = round(result.na_count / df.shape[0] * 100, 2)\n",
    "\n",
    "    return result\n",
    "\n",
    "\n",
    "na_detail(raw_data)"
   ]
  },
  {
   "cell_type": "markdown",
   "metadata": {},
   "source": [
    "We can see tha before doing any transformation to our data we only have 6 missing values in the advertiser column."
   ]
  },
  {
   "cell_type": "markdown",
   "metadata": {},
   "source": [
    "Now that we have a general view of our data structure we will go through each variable making the necesary changes. "
   ]
  },
  {
   "cell_type": "markdown",
   "metadata": {},
   "source": [
    "### house_id\n",
    "\n",
    "*description: Unique property identifier (from idealista)*\n",
    "\n",
    "There is not much to do with this variable as it has no other purpose than identifying the property. The only thing that we could do is to check for duplicated ids. "
   ]
  },
  {
   "cell_type": "code",
   "execution_count": 379,
   "metadata": {},
   "outputs": [
    {
     "name": "stdout",
     "output_type": "stream",
     "text": [
      "1 duplicated id/s\n",
      "[96404190]\n"
     ]
    }
   ],
   "source": [
    "# is there any duplicated house?\n",
    "duplicated_ids = raw_data.house_id[raw_data.duplicated(subset=['house_id'])]\n",
    "print(f'{len(duplicated_ids)} duplicated id/s')\n",
    "if len(duplicated_ids) > 0:\n",
    "    print(duplicated_ids.values)"
   ]
  },
  {
   "cell_type": "markdown",
   "metadata": {},
   "source": [
    "apparently there is just one duplicated id (96404190) wich we can just proceed to delet."
   ]
  },
  {
   "cell_type": "code",
   "execution_count": 380,
   "metadata": {},
   "outputs": [
    {
     "name": "stdout",
     "output_type": "stream",
     "text": [
      "0 duplicated id/s\n"
     ]
    }
   ],
   "source": [
    "# removing duplicated id\n",
    "raw_data.drop_duplicates(subset='house_id', keep=\"last\", inplace=True)\n",
    "duplicated_ids = raw_data.house_id[raw_data.duplicated(subset=['house_id'])]\n",
    "print(f'{len(duplicated_ids)} duplicated id/s')\n",
    "if len(duplicated_ids) > 0:\n",
    "    print(duplicated_ids.values)"
   ]
  },
  {
   "cell_type": "code",
   "execution_count": 381,
   "metadata": {},
   "outputs": [],
   "source": [
    "raw_data.drop(771, axis=0, inplace=True) # 771 is the index position of the duplicate"
   ]
  },
  {
   "cell_type": "markdown",
   "metadata": {},
   "source": [
    "### tittle\n",
    "*description: tittle / short description of the property*\n",
    "\n",
    "Having a look at this variable we see that there are two pieces of information we can obtain from it. \n",
    "The first one is the type of property (flat / apartment, duplex, house...) and the second one is about the area or zone where the property is located.Some times this information is the neighborhood and other times its the adress. Those two pieces of information seem to be separated by the phrase 'for sale in ' (the search was filtered on only properties for sale when scraping). We could then make two variables out of tittle, 'type' and 'zone'. \n",
    "\n",
    "To be sure that there is always the phrase 'for sale in ' we will do a small check:"
   ]
  },
  {
   "cell_type": "code",
   "execution_count": 382,
   "metadata": {},
   "outputs": [
    {
     "data": {
      "text/plain": [
       "True"
      ]
     },
     "execution_count": 382,
     "metadata": {},
     "output_type": "execute_result"
    }
   ],
   "source": [
    "raw_data.tittle = raw_data.tittle.str.lower() # converting to lowercase\n",
    "raw_data.tittle.str.contains('for sale in ', na=False).sum() == raw_data.shape[0] # checking if for sale is in each row"
   ]
  },
  {
   "cell_type": "markdown",
   "metadata": {},
   "source": [
    "Now that we have confirmed that 'for sale' is in each row, we can create 'type' and 'zone' columns"
   ]
  },
  {
   "cell_type": "code",
   "execution_count": 383,
   "metadata": {},
   "outputs": [
    {
     "data": {
      "text/html": [
       "<div>\n",
       "<style scoped>\n",
       "    .dataframe tbody tr th:only-of-type {\n",
       "        vertical-align: middle;\n",
       "    }\n",
       "\n",
       "    .dataframe tbody tr th {\n",
       "        vertical-align: top;\n",
       "    }\n",
       "\n",
       "    .dataframe thead th {\n",
       "        text-align: right;\n",
       "    }\n",
       "</style>\n",
       "<table border=\"1\" class=\"dataframe\">\n",
       "  <thead>\n",
       "    <tr style=\"text-align: right;\">\n",
       "      <th></th>\n",
       "      <th>tittle</th>\n",
       "      <th>type</th>\n",
       "      <th>zone</th>\n",
       "    </tr>\n",
       "  </thead>\n",
       "  <tbody>\n",
       "    <tr>\n",
       "      <th>0</th>\n",
       "      <td>flat / apartment for sale in zona bahía blanca</td>\n",
       "      <td>flat / apartment</td>\n",
       "      <td>zona bahía blanca</td>\n",
       "    </tr>\n",
       "    <tr>\n",
       "      <th>1</th>\n",
       "      <td>duplex for sale in mentidero - teatro falla - ...</td>\n",
       "      <td>duplex</td>\n",
       "      <td>mentidero - teatro falla - alameda</td>\n",
       "    </tr>\n",
       "    <tr>\n",
       "      <th>2</th>\n",
       "      <td>flat / apartment for sale in mentidero - teatr...</td>\n",
       "      <td>flat / apartment</td>\n",
       "      <td>mentidero - teatro falla - alameda</td>\n",
       "    </tr>\n",
       "    <tr>\n",
       "      <th>3</th>\n",
       "      <td>flat / apartment for sale in urb. alameda apod...</td>\n",
       "      <td>flat / apartment</td>\n",
       "      <td>urb. alameda apodaca, mentidero - teatro falla...</td>\n",
       "    </tr>\n",
       "    <tr>\n",
       "      <th>4</th>\n",
       "      <td>flat / apartment for sale in urb. playa santa ...</td>\n",
       "      <td>flat / apartment</td>\n",
       "      <td>urb. playa santa maría del mar, playa stª mª d...</td>\n",
       "    </tr>\n",
       "  </tbody>\n",
       "</table>\n",
       "</div>"
      ],
      "text/plain": [
       "                                              tittle               type  \\\n",
       "0     flat / apartment for sale in zona bahía blanca  flat / apartment    \n",
       "1  duplex for sale in mentidero - teatro falla - ...            duplex    \n",
       "2  flat / apartment for sale in mentidero - teatr...  flat / apartment    \n",
       "3  flat / apartment for sale in urb. alameda apod...  flat / apartment    \n",
       "4  flat / apartment for sale in urb. playa santa ...  flat / apartment    \n",
       "\n",
       "                                                zone  \n",
       "0                                  zona bahía blanca  \n",
       "1                 mentidero - teatro falla - alameda  \n",
       "2                 mentidero - teatro falla - alameda  \n",
       "3  urb. alameda apodaca, mentidero - teatro falla...  \n",
       "4  urb. playa santa maría del mar, playa stª mª d...  "
      ]
     },
     "execution_count": 383,
     "metadata": {},
     "output_type": "execute_result"
    }
   ],
   "source": [
    "raw_data[['type', 'zone']] = raw_data.tittle.str.split('for sale in ',expand=True) # splitting tittle into type and zone\n",
    "raw_data[['tittle', 'type', 'zone']].head()"
   ]
  },
  {
   "cell_type": "markdown",
   "metadata": {},
   "source": [
    "### city\n",
    "*description: city where the property is located plus some zone info in some cases*\n",
    "\n",
    "This column is a bit triky. We can find in this column two options:\n",
    "- Just the city name\n",
    "- Neigborhood plus city name\n",
    "\n",
    "When there is information about the neigborhood, we observe that our 'zone' column that we have just created contains the exact adress or at least more detailed information about the location of the property (calle means street in spanish):"
   ]
  },
  {
   "cell_type": "code",
   "execution_count": 384,
   "metadata": {},
   "outputs": [
    {
     "data": {
      "text/html": [
       "<div>\n",
       "<style scoped>\n",
       "    .dataframe tbody tr th:only-of-type {\n",
       "        vertical-align: middle;\n",
       "    }\n",
       "\n",
       "    .dataframe tbody tr th {\n",
       "        vertical-align: top;\n",
       "    }\n",
       "\n",
       "    .dataframe thead th {\n",
       "        text-align: right;\n",
       "    }\n",
       "</style>\n",
       "<table border=\"1\" class=\"dataframe\">\n",
       "  <thead>\n",
       "    <tr style=\"text-align: right;\">\n",
       "      <th></th>\n",
       "      <th>city</th>\n",
       "      <th>zone</th>\n",
       "    </tr>\n",
       "  </thead>\n",
       "  <tbody>\n",
       "    <tr>\n",
       "      <th>8</th>\n",
       "      <td>La Caleta - La Viña, Cadiz</td>\n",
       "      <td>calle obispo urquinaona</td>\n",
       "    </tr>\n",
       "    <tr>\n",
       "      <th>13</th>\n",
       "      <td>Centro Histórico - Plaza España, Cadiz</td>\n",
       "      <td>paseo de la alameda apodaca nn</td>\n",
       "    </tr>\n",
       "    <tr>\n",
       "      <th>14</th>\n",
       "      <td>Mentidero - Teatro Falla - Alameda, Cadiz</td>\n",
       "      <td>calle navas</td>\n",
       "    </tr>\n",
       "    <tr>\n",
       "      <th>33</th>\n",
       "      <td>Playa Victoria, Cadiz</td>\n",
       "      <td>av. andalucía</td>\n",
       "    </tr>\n",
       "    <tr>\n",
       "      <th>40</th>\n",
       "      <td>La Paz - Segunda Aguada - Loreto, Cadiz</td>\n",
       "      <td>calle carraca</td>\n",
       "    </tr>\n",
       "  </tbody>\n",
       "</table>\n",
       "</div>"
      ],
      "text/plain": [
       "                                         city                            zone\n",
       "8                  La Caleta - La Viña, Cadiz         calle obispo urquinaona\n",
       "13     Centro Histórico - Plaza España, Cadiz  paseo de la alameda apodaca nn\n",
       "14  Mentidero - Teatro Falla - Alameda, Cadiz                     calle navas\n",
       "33                      Playa Victoria, Cadiz                   av. andalucía\n",
       "40    La Paz - Segunda Aguada - Loreto, Cadiz                   calle carraca"
      ]
     },
     "execution_count": 384,
     "metadata": {},
     "output_type": "execute_result"
    }
   ],
   "source": [
    "raw_data.query(\"city != 'Cadiz'\")[['city', 'zone']].head()"
   ]
  },
  {
   "cell_type": "markdown",
   "metadata": {},
   "source": [
    "If there is only the city name, we observe that our 'zone' column contains the neigborhood information:"
   ]
  },
  {
   "cell_type": "code",
   "execution_count": 385,
   "metadata": {},
   "outputs": [
    {
     "data": {
      "text/html": [
       "<div>\n",
       "<style scoped>\n",
       "    .dataframe tbody tr th:only-of-type {\n",
       "        vertical-align: middle;\n",
       "    }\n",
       "\n",
       "    .dataframe tbody tr th {\n",
       "        vertical-align: top;\n",
       "    }\n",
       "\n",
       "    .dataframe thead th {\n",
       "        text-align: right;\n",
       "    }\n",
       "</style>\n",
       "<table border=\"1\" class=\"dataframe\">\n",
       "  <thead>\n",
       "    <tr style=\"text-align: right;\">\n",
       "      <th></th>\n",
       "      <th>city</th>\n",
       "      <th>zone</th>\n",
       "    </tr>\n",
       "  </thead>\n",
       "  <tbody>\n",
       "    <tr>\n",
       "      <th>0</th>\n",
       "      <td>Cadiz</td>\n",
       "      <td>zona bahía blanca</td>\n",
       "    </tr>\n",
       "    <tr>\n",
       "      <th>1</th>\n",
       "      <td>Cadiz</td>\n",
       "      <td>mentidero - teatro falla - alameda</td>\n",
       "    </tr>\n",
       "    <tr>\n",
       "      <th>2</th>\n",
       "      <td>Cadiz</td>\n",
       "      <td>mentidero - teatro falla - alameda</td>\n",
       "    </tr>\n",
       "    <tr>\n",
       "      <th>3</th>\n",
       "      <td>Cadiz</td>\n",
       "      <td>urb. alameda apodaca, mentidero - teatro falla...</td>\n",
       "    </tr>\n",
       "    <tr>\n",
       "      <th>4</th>\n",
       "      <td>Cadiz</td>\n",
       "      <td>urb. playa santa maría del mar, playa stª mª d...</td>\n",
       "    </tr>\n",
       "  </tbody>\n",
       "</table>\n",
       "</div>"
      ],
      "text/plain": [
       "    city                                               zone\n",
       "0  Cadiz                                  zona bahía blanca\n",
       "1  Cadiz                 mentidero - teatro falla - alameda\n",
       "2  Cadiz                 mentidero - teatro falla - alameda\n",
       "3  Cadiz  urb. alameda apodaca, mentidero - teatro falla...\n",
       "4  Cadiz  urb. playa santa maría del mar, playa stª mª d..."
      ]
     },
     "execution_count": 385,
     "metadata": {},
     "output_type": "execute_result"
    }
   ],
   "source": [
    "raw_data.query(\"city == 'Cadiz'\")[['city', 'zone']].head()"
   ]
  },
  {
   "cell_type": "markdown",
   "metadata": {},
   "source": [
    "We see that neighborhoos and adress information is mixed among both columns, we need to find a way to separate them.\n",
    "\n",
    "The reason why I think this is hapening is because idealista.com gives you the chance to hide your adress but you have to pay. If you pay, only information about the neigborhood will be posted (in the tittle section) and if you dont the location will be exposed.\n",
    "\n",
    "So we know that we will get the neigborhood for all properties but we will not know the adress of all properties. On the other hand we will obtain information about how many people did pay for this service even if this information is irelevant.\n",
    "\n",
    "Our goal is to create three columns, nbhood (all properties), street (if there is), st_number (if there is).\n",
    "\n",
    "The strategy will be:\n",
    "- If only the city is available in city column: nbhood will be extracted from 'zone' column. 'street' and 'st_number' will be empty.\n",
    "- If neigborhood is available in city column: nbhood will be extracted from 'city' column. 'street' and 'st_number' will be extracted from 'zone' column.\n",
    "\n",
    "Aditionaly we will do some string cleaning and standarisation on our nbhood and street columns"
   ]
  },
  {
   "cell_type": "code",
   "execution_count": 386,
   "metadata": {},
   "outputs": [
    {
     "data": {
      "text/html": [
       "<div>\n",
       "<style scoped>\n",
       "    .dataframe tbody tr th:only-of-type {\n",
       "        vertical-align: middle;\n",
       "    }\n",
       "\n",
       "    .dataframe tbody tr th {\n",
       "        vertical-align: top;\n",
       "    }\n",
       "\n",
       "    .dataframe thead th {\n",
       "        text-align: right;\n",
       "    }\n",
       "</style>\n",
       "<table border=\"1\" class=\"dataframe\">\n",
       "  <thead>\n",
       "    <tr style=\"text-align: right;\">\n",
       "      <th></th>\n",
       "      <th>city</th>\n",
       "      <th>nbhood</th>\n",
       "      <th>street</th>\n",
       "      <th>st_number</th>\n",
       "    </tr>\n",
       "  </thead>\n",
       "  <tbody>\n",
       "    <tr>\n",
       "      <th>0</th>\n",
       "      <td>Cadiz</td>\n",
       "      <td>zona bahia blanca</td>\n",
       "      <td>unknown</td>\n",
       "      <td>NaN</td>\n",
       "    </tr>\n",
       "    <tr>\n",
       "      <th>1</th>\n",
       "      <td>Cadiz</td>\n",
       "      <td>mentidero - teatro falla - alameda</td>\n",
       "      <td>unknown</td>\n",
       "      <td>NaN</td>\n",
       "    </tr>\n",
       "    <tr>\n",
       "      <th>2</th>\n",
       "      <td>Cadiz</td>\n",
       "      <td>mentidero - teatro falla - alameda</td>\n",
       "      <td>unknown</td>\n",
       "      <td>NaN</td>\n",
       "    </tr>\n",
       "    <tr>\n",
       "      <th>3</th>\n",
       "      <td>Cadiz</td>\n",
       "      <td>mentidero - teatro falla - alameda</td>\n",
       "      <td>unknown</td>\n",
       "      <td>NaN</td>\n",
       "    </tr>\n",
       "    <tr>\n",
       "      <th>4</th>\n",
       "      <td>Cadiz</td>\n",
       "      <td>playa stª mª del mar</td>\n",
       "      <td>unknown</td>\n",
       "      <td>NaN</td>\n",
       "    </tr>\n",
       "  </tbody>\n",
       "</table>\n",
       "</div>"
      ],
      "text/plain": [
       "    city                              nbhood   street  st_number\n",
       "0  Cadiz                   zona bahia blanca  unknown        NaN\n",
       "1  Cadiz  mentidero - teatro falla - alameda  unknown        NaN\n",
       "2  Cadiz  mentidero - teatro falla - alameda  unknown        NaN\n",
       "3  Cadiz  mentidero - teatro falla - alameda  unknown        NaN\n",
       "4  Cadiz                playa stª mª del mar  unknown        NaN"
      ]
     },
     "execution_count": 386,
     "metadata": {},
     "output_type": "execute_result"
    }
   ],
   "source": [
    "raw_data['nbhood'] = [l.replace(', Cadiz', '').replace('Cadiz', '') for l in raw_data.city] # creating a col with nbhood from city col\n",
    "raw_data['nbhood'] = np.where(raw_data['nbhood'] == '', raw_data['zone'], raw_data['nbhood']) # adding  nbhood from zone if not in city col\n",
    "\n",
    "\n",
    "raw_data['street'] = np.where(raw_data['city'] != 'Cadiz', raw_data['zone'], 'unknown') # creating a col with street from zone col\n",
    "raw_data[['street', 'st_number']] = raw_data.street.str.split(pat=',',expand=True) # separating st_number from street\n",
    "raw_data['st_number'] = raw_data['st_number'].str.strip() # removing empty spaces\n",
    "raw_data['st_number'] = raw_data.st_number.str.split(pat=' ',expand=True)[0] # selecting only the first number (5 a, 11 duplicado, etc...)\n",
    "raw_data['st_number'] = pd.to_numeric(raw_data['st_number'], errors='coerce') # converting to numeric\n",
    "\n",
    "# removing accents and transforming to lowe case nbhood and street\n",
    "def str_stand(s):\n",
    "    'removes accents and converts str to lower case'\n",
    "    result = ''.join(c for c in unicodedata.normalize('NFD', s)\n",
    "                  if unicodedata.category(c) != 'Mn')\n",
    "    result = result.lower()\n",
    "   \n",
    "    return result\n",
    "\n",
    "raw_data['nbhood'] = list(map(str_stand, raw_data['nbhood']))\n",
    "raw_data['street'] = list(map(str_stand, raw_data['street']))\n",
    "\n",
    "# Replacing manually the name of some neighborhoods\n",
    "custom_equivalences_dict = {\n",
    "    'urb. playa santa maria del mar, playa stª mª del mar':'playa stª mª del mar',\n",
    "    'urb. alameda apodaca, mentidero - teatro falla - alameda':'mentidero - teatro falla - alameda',\n",
    "    'urb. loreto, la paz - segunda aguada - loreto':'la paz - segunda aguada - loreto',\n",
    "    'urb. santa maria del mar, playa stª mª del mar':'playa stª mª del mar',\n",
    "    'urb. comisaria, zona san jose - varela':'zona san jose - varela',\n",
    "    'urb. san jose-varela-la laguna, zona laguna':'zona laguna',\n",
    "}\n",
    "raw_data.replace({\"nbhood\": custom_equivalences_dict}, inplace=True)\n",
    "\n",
    "raw_data[['city', 'nbhood', 'street', 'st_number']].head()"
   ]
  },
  {
   "cell_type": "code",
   "execution_count": 387,
   "metadata": {},
   "outputs": [],
   "source": [
    "raw_data.drop(['city', 'zone'], axis=1, inplace=True) # removing this cols, city is always Cadiz and zone is already captured by nbhood, street and st_number"
   ]
  },
  {
   "cell_type": "markdown",
   "metadata": {},
   "source": [
    "### price_act &\tprice_first\t\n",
    "*description: actual price and first published price in Euros*\n",
    "\n",
    "We saw previously when we printed all variables data types that theese two variables where cataloged as 'object' meanning that they are not a number. There mus be some king of non numeric character in these variables. Lets append both columns and have a look at what type of values we have:"
   ]
  },
  {
   "cell_type": "code",
   "execution_count": 388,
   "metadata": {},
   "outputs": [
    {
     "data": {
      "text/plain": [
       "180,000          69\n",
       "330,000          62\n",
       "165,000          58\n",
       "200,000          52\n",
       "250,000          48\n",
       "                 ..\n",
       "\\n139,000 €\\n     1\n",
       "\\n420,000 €\\n     1\n",
       "\\n350,000 €\\n     1\n",
       "\\n135,000 €\\n     1\n",
       "\\n123,000 €\\n     1\n",
       "Length: 341, dtype: int64"
      ]
     },
     "execution_count": 388,
     "metadata": {},
     "output_type": "execute_result"
    }
   ],
   "source": [
    "raw_data['price_act'].append(raw_data['price_first']).value_counts()"
   ]
  },
  {
   "cell_type": "markdown",
   "metadata": {},
   "source": [
    "Just from printing the value count we can see that there is a thousand separator as well as some other characters such as €\\n.\n",
    "We will now define a function that will clean the variable from those non numeric characters and convert to float64."
   ]
  },
  {
   "cell_type": "code",
   "execution_count": 389,
   "metadata": {},
   "outputs": [
    {
     "data": {
      "text/plain": [
       "price_act      float64\n",
       "price_first    float64\n",
       "dtype: object"
      ]
     },
     "execution_count": 389,
     "metadata": {},
     "output_type": "execute_result"
    }
   ],
   "source": [
    "def clean_num(array):\n",
    "    '''cleans number & transforms column to float64'''\n",
    "    if array.dtypes != 'float64':\n",
    "        result = []\n",
    "        for elemen in array:\n",
    "            number = [l for l in elemen if l.isdigit()]\n",
    "            result.append(''.join(number))\n",
    "        \n",
    "        result = [float(l) for l in result]\n",
    "        return result\n",
    "    \n",
    "    else:\n",
    "        return array\n",
    "\n",
    "raw_data.price_act = clean_num(raw_data.price_act)\n",
    "raw_data.price_first = clean_num(raw_data.price_first)\n",
    "\n",
    "raw_data[['price_act', 'price_first']].dtypes "
   ]
  },
  {
   "cell_type": "markdown",
   "metadata": {},
   "source": [
    "### details_x_desc\n",
    "*description: lists of properties characteristics*\n",
    "\n",
    "These three columns are the most complex ones. Each row contains a list of characteristics. There are some compulsory characteristics such as number of bedrooms or m2 buit. There are also some characteristics not compulsory like air conditioning. We need to make an asumption here, if there is no mentoin about balcony for example we will asume that the property has no balcony. Some of theese fields are not mandatory when uploading a property to idealista but we will still asume that if the characteristic is not listed it just doesn´t exist."
   ]
  },
  {
   "cell_type": "code",
   "execution_count": 390,
   "metadata": {},
   "outputs": [
    {
     "data": {
      "text/html": [
       "<div>\n",
       "<style scoped>\n",
       "    .dataframe tbody tr th:only-of-type {\n",
       "        vertical-align: middle;\n",
       "    }\n",
       "\n",
       "    .dataframe tbody tr th {\n",
       "        vertical-align: top;\n",
       "    }\n",
       "\n",
       "    .dataframe thead th {\n",
       "        text-align: right;\n",
       "    }\n",
       "</style>\n",
       "<table border=\"1\" class=\"dataframe\">\n",
       "  <thead>\n",
       "    <tr style=\"text-align: right;\">\n",
       "      <th></th>\n",
       "      <th>details_1_desc</th>\n",
       "      <th>details_2_desc</th>\n",
       "      <th>details_3_desc</th>\n",
       "    </tr>\n",
       "  </thead>\n",
       "  <tbody>\n",
       "    <tr>\n",
       "      <th>0</th>\n",
       "      <td>['262 m² built', '6 bedrooms', '4 bathrooms', ...</td>\n",
       "      <td>['Air conditioning', 'en trámite']</td>\n",
       "      <td>[]</td>\n",
       "    </tr>\n",
       "    <tr>\n",
       "      <th>1</th>\n",
       "      <td>['135 m² built', '3 bedrooms', '3 bathrooms', ...</td>\n",
       "      <td>['en trámite']</td>\n",
       "      <td>[]</td>\n",
       "    </tr>\n",
       "    <tr>\n",
       "      <th>2</th>\n",
       "      <td>['190 m² built', '8 bedrooms', '3 bathrooms', ...</td>\n",
       "      <td>['en trámite']</td>\n",
       "      <td>[]</td>\n",
       "    </tr>\n",
       "    <tr>\n",
       "      <th>3</th>\n",
       "      <td>['131 m² built, 117 m² floor area', '3 bedroom...</td>\n",
       "      <td>['Air conditioning', 'en trámite']</td>\n",
       "      <td>[]</td>\n",
       "    </tr>\n",
       "    <tr>\n",
       "      <th>4</th>\n",
       "      <td>['168 m² built, 167 m² floor area', '3 bedroom...</td>\n",
       "      <td>['en trámite']</td>\n",
       "      <td>[]</td>\n",
       "    </tr>\n",
       "  </tbody>\n",
       "</table>\n",
       "</div>"
      ],
      "text/plain": [
       "                                      details_1_desc  \\\n",
       "0  ['262 m² built', '6 bedrooms', '4 bathrooms', ...   \n",
       "1  ['135 m² built', '3 bedrooms', '3 bathrooms', ...   \n",
       "2  ['190 m² built', '8 bedrooms', '3 bathrooms', ...   \n",
       "3  ['131 m² built, 117 m² floor area', '3 bedroom...   \n",
       "4  ['168 m² built, 167 m² floor area', '3 bedroom...   \n",
       "\n",
       "                       details_2_desc details_3_desc  \n",
       "0  ['Air conditioning', 'en trámite']             []  \n",
       "1                      ['en trámite']             []  \n",
       "2                      ['en trámite']             []  \n",
       "3  ['Air conditioning', 'en trámite']             []  \n",
       "4                      ['en trámite']             []  "
      ]
     },
     "execution_count": 390,
     "metadata": {},
     "output_type": "execute_result"
    }
   ],
   "source": [
    "raw_data[['details_1_desc', 'details_2_desc', 'details_3_desc']].head()"
   ]
  },
  {
   "cell_type": "markdown",
   "metadata": {},
   "source": [
    "If we select the first element from 'details_1_desc' we can see that the list is actually readed as a string. So the first thing we have to do is to convert the string to an actual list. Then we will apend the lists of the three 'datil_x_desc' columns into one sole column so that we do the work just once."
   ]
  },
  {
   "cell_type": "code",
   "execution_count": 391,
   "metadata": {},
   "outputs": [
    {
     "data": {
      "text/plain": [
       "\"['262 m² built', '6 bedrooms', '4 bathrooms', 'Terrace', 'Balcony', 'Additional parking space for € 35,000', 'Second hand/good condition', 'Fitted wardrobes', 'Orientation South, East', 'Built in 1973', 'Individual heating', '10th floor exterior', 'with lift']\""
      ]
     },
     "execution_count": 391,
     "metadata": {},
     "output_type": "execute_result"
    }
   ],
   "source": [
    "raw_data.details_1_desc[0]"
   ]
  },
  {
   "cell_type": "code",
   "execution_count": 392,
   "metadata": {},
   "outputs": [
    {
     "data": {
      "text/html": [
       "<div>\n",
       "<style scoped>\n",
       "    .dataframe tbody tr th:only-of-type {\n",
       "        vertical-align: middle;\n",
       "    }\n",
       "\n",
       "    .dataframe tbody tr th {\n",
       "        vertical-align: top;\n",
       "    }\n",
       "\n",
       "    .dataframe thead th {\n",
       "        text-align: right;\n",
       "    }\n",
       "</style>\n",
       "<table border=\"1\" class=\"dataframe\">\n",
       "  <thead>\n",
       "    <tr style=\"text-align: right;\">\n",
       "      <th></th>\n",
       "      <th>house_id</th>\n",
       "      <th>tittle</th>\n",
       "      <th>price_act</th>\n",
       "      <th>price_first</th>\n",
       "      <th>advertiser</th>\n",
       "      <th>type</th>\n",
       "      <th>nbhood</th>\n",
       "      <th>street</th>\n",
       "      <th>st_number</th>\n",
       "      <th>details</th>\n",
       "    </tr>\n",
       "  </thead>\n",
       "  <tbody>\n",
       "    <tr>\n",
       "      <th>0</th>\n",
       "      <td>94283285</td>\n",
       "      <td>flat / apartment for sale in zona bahía blanca</td>\n",
       "      <td>750000.0</td>\n",
       "      <td>750000.0</td>\n",
       "      <td>Professional advertiser</td>\n",
       "      <td>flat / apartment</td>\n",
       "      <td>zona bahia blanca</td>\n",
       "      <td>unknown</td>\n",
       "      <td>NaN</td>\n",
       "      <td>[built in 1973, orientation south, with lift, ...</td>\n",
       "    </tr>\n",
       "    <tr>\n",
       "      <th>1</th>\n",
       "      <td>89113690</td>\n",
       "      <td>duplex for sale in mentidero - teatro falla - ...</td>\n",
       "      <td>575000.0</td>\n",
       "      <td>575000.0</td>\n",
       "      <td>Professional advertiser</td>\n",
       "      <td>duplex</td>\n",
       "      <td>mentidero - teatro falla - alameda</td>\n",
       "      <td>unknown</td>\n",
       "      <td>NaN</td>\n",
       "      <td>[storeroom, 2nd floor exterior, individual hea...</td>\n",
       "    </tr>\n",
       "    <tr>\n",
       "      <th>2</th>\n",
       "      <td>95291210</td>\n",
       "      <td>flat / apartment for sale in mentidero - teatr...</td>\n",
       "      <td>320000.0</td>\n",
       "      <td>320000.0</td>\n",
       "      <td>Professional advertiser</td>\n",
       "      <td>flat / apartment</td>\n",
       "      <td>mentidero - teatro falla - alameda</td>\n",
       "      <td>unknown</td>\n",
       "      <td>NaN</td>\n",
       "      <td>[8 bedrooms, west, 190 m² built, built in 1888...</td>\n",
       "    </tr>\n",
       "    <tr>\n",
       "      <th>3</th>\n",
       "      <td>96746079</td>\n",
       "      <td>flat / apartment for sale in urb. alameda apod...</td>\n",
       "      <td>390000.0</td>\n",
       "      <td>390000.0</td>\n",
       "      <td>Professional advertiser</td>\n",
       "      <td>flat / apartment</td>\n",
       "      <td>mentidero - teatro falla - alameda</td>\n",
       "      <td>unknown</td>\n",
       "      <td>NaN</td>\n",
       "      <td>[storeroom, orientation south, with lift, buil...</td>\n",
       "    </tr>\n",
       "    <tr>\n",
       "      <th>4</th>\n",
       "      <td>96622572</td>\n",
       "      <td>flat / apartment for sale in urb. playa santa ...</td>\n",
       "      <td>720000.0</td>\n",
       "      <td>720000.0</td>\n",
       "      <td>Professional advertiser</td>\n",
       "      <td>flat / apartment</td>\n",
       "      <td>playa stª mª del mar</td>\n",
       "      <td>unknown</td>\n",
       "      <td>NaN</td>\n",
       "      <td>[with lift, 167 m² floor area, orientation sou...</td>\n",
       "    </tr>\n",
       "  </tbody>\n",
       "</table>\n",
       "</div>"
      ],
      "text/plain": [
       "   house_id                                             tittle  price_act  \\\n",
       "0  94283285     flat / apartment for sale in zona bahía blanca   750000.0   \n",
       "1  89113690  duplex for sale in mentidero - teatro falla - ...   575000.0   \n",
       "2  95291210  flat / apartment for sale in mentidero - teatr...   320000.0   \n",
       "3  96746079  flat / apartment for sale in urb. alameda apod...   390000.0   \n",
       "4  96622572  flat / apartment for sale in urb. playa santa ...   720000.0   \n",
       "\n",
       "   price_first               advertiser               type  \\\n",
       "0     750000.0  Professional advertiser  flat / apartment    \n",
       "1     575000.0  Professional advertiser            duplex    \n",
       "2     320000.0  Professional advertiser  flat / apartment    \n",
       "3     390000.0  Professional advertiser  flat / apartment    \n",
       "4     720000.0  Professional advertiser  flat / apartment    \n",
       "\n",
       "                               nbhood   street  st_number  \\\n",
       "0                   zona bahia blanca  unknown        NaN   \n",
       "1  mentidero - teatro falla - alameda  unknown        NaN   \n",
       "2  mentidero - teatro falla - alameda  unknown        NaN   \n",
       "3  mentidero - teatro falla - alameda  unknown        NaN   \n",
       "4                playa stª mª del mar  unknown        NaN   \n",
       "\n",
       "                                             details  \n",
       "0  [built in 1973, orientation south, with lift, ...  \n",
       "1  [storeroom, 2nd floor exterior, individual hea...  \n",
       "2  [8 bedrooms, west, 190 m² built, built in 1888...  \n",
       "3  [storeroom, orientation south, with lift, buil...  \n",
       "4  [with lift, 167 m² floor area, orientation sou...  "
      ]
     },
     "execution_count": 392,
     "metadata": {},
     "output_type": "execute_result"
    }
   ],
   "source": [
    "# converting details_123_desc to a list and combining all into only one list col\n",
    "raw_data.details_1_desc = raw_data.details_1_desc.map(lambda x: x.strip(\"[]\").replace(\"'\", \"\").lower().split(\", \"))\n",
    "raw_data.details_2_desc = raw_data.details_2_desc.map(lambda x: x.strip(\"[]\").replace(\"'\", \"\").lower().split(\", \"))\n",
    "raw_data.details_3_desc = raw_data.details_3_desc.map(lambda x: x.strip(\"[]\").replace(\"'\", \"\").lower().split(\", \"))\n",
    "raw_data['details'] = raw_data['details_1_desc'] + raw_data['details_2_desc'] + raw_data['details_3_desc']\n",
    "raw_data['details'] = raw_data['details'].apply(lambda x: list(set(x))) # removing posible duplicates\n",
    "raw_data['details'] = raw_data['details'].apply(lambda x: [l for l in x if l != \"\"]) # removing empty details from the lists\n",
    "raw_data.drop(['details_1_desc', 'details_2_desc', 'details_3_desc'], axis=1, inplace=True) # dropping old cols\n",
    "raw_data.head()"
   ]
  },
  {
   "cell_type": "markdown",
   "metadata": {},
   "source": [
    "We can now check that the first element of details column is actually casted as a list"
   ]
  },
  {
   "cell_type": "code",
   "execution_count": 393,
   "metadata": {},
   "outputs": [
    {
     "data": {
      "text/plain": [
       "['built in 1973',\n",
       " 'orientation south',\n",
       " 'with lift',\n",
       " 'terrace',\n",
       " '262 m² built',\n",
       " 'east',\n",
       " 'individual heating',\n",
       " 'fitted wardrobes',\n",
       " '10th floor exterior',\n",
       " 'air conditioning',\n",
       " 'additional parking space for € 35,000',\n",
       " 'second hand/good condition',\n",
       " '4 bathrooms',\n",
       " 'balcony',\n",
       " '6 bedrooms',\n",
       " 'en trámite']"
      ]
     },
     "execution_count": 393,
     "metadata": {},
     "output_type": "execute_result"
    }
   ],
   "source": [
    "raw_data.details[0]"
   ]
  },
  {
   "cell_type": "markdown",
   "metadata": {},
   "source": [
    "It would be a good idea to see what type of details we have and how often they occur in our data set. To do so I have crated a function that will remove any number from details list and count the number of ocurences. The Data Frame returned will be very usefull to give us an idea of what information we can extract from these lists."
   ]
  },
  {
   "cell_type": "code",
   "execution_count": 394,
   "metadata": {},
   "outputs": [
    {
     "data": {
      "text/html": [
       "<div>\n",
       "<style scoped>\n",
       "    .dataframe tbody tr th:only-of-type {\n",
       "        vertical-align: middle;\n",
       "    }\n",
       "\n",
       "    .dataframe tbody tr th {\n",
       "        vertical-align: top;\n",
       "    }\n",
       "\n",
       "    .dataframe thead th {\n",
       "        text-align: right;\n",
       "    }\n",
       "</style>\n",
       "<table border=\"1\" class=\"dataframe\">\n",
       "  <thead>\n",
       "    <tr style=\"text-align: right;\">\n",
       "      <th></th>\n",
       "      <th>characteristic</th>\n",
       "      <th>count</th>\n",
       "      <th>per</th>\n",
       "    </tr>\n",
       "  </thead>\n",
       "  <tbody>\n",
       "    <tr>\n",
       "      <th>4</th>\n",
       "      <td>m² built</td>\n",
       "      <td>1216</td>\n",
       "      <td>100.0</td>\n",
       "    </tr>\n",
       "    <tr>\n",
       "      <th>11</th>\n",
       "      <td>second hand/good condition</td>\n",
       "      <td>1098</td>\n",
       "      <td>90.0</td>\n",
       "    </tr>\n",
       "    <tr>\n",
       "      <th>14</th>\n",
       "      <td>bedrooms</td>\n",
       "      <td>1058</td>\n",
       "      <td>87.0</td>\n",
       "    </tr>\n",
       "    <tr>\n",
       "      <th>26</th>\n",
       "      <td>m² floor area</td>\n",
       "      <td>735</td>\n",
       "      <td>60.0</td>\n",
       "    </tr>\n",
       "    <tr>\n",
       "      <th>35</th>\n",
       "      <td>bathroom</td>\n",
       "      <td>692</td>\n",
       "      <td>57.0</td>\n",
       "    </tr>\n",
       "    <tr>\n",
       "      <th>2</th>\n",
       "      <td>with lift</td>\n",
       "      <td>672</td>\n",
       "      <td>55.0</td>\n",
       "    </tr>\n",
       "    <tr>\n",
       "      <th>7</th>\n",
       "      <td>fitted wardrobes</td>\n",
       "      <td>649</td>\n",
       "      <td>53.0</td>\n",
       "    </tr>\n",
       "    <tr>\n",
       "      <th>15</th>\n",
       "      <td>en trámite</td>\n",
       "      <td>628</td>\n",
       "      <td>52.0</td>\n",
       "    </tr>\n",
       "    <tr>\n",
       "      <th>0</th>\n",
       "      <td>built in</td>\n",
       "      <td>562</td>\n",
       "      <td>46.0</td>\n",
       "    </tr>\n",
       "    <tr>\n",
       "      <th>12</th>\n",
       "      <td>bathrooms</td>\n",
       "      <td>521</td>\n",
       "      <td>43.0</td>\n",
       "    </tr>\n",
       "  </tbody>\n",
       "</table>\n",
       "</div>"
      ],
      "text/plain": [
       "                characteristic  count    per\n",
       "4                     m² built   1216  100.0\n",
       "11  second hand/good condition   1098   90.0\n",
       "14                    bedrooms   1058   87.0\n",
       "26               m² floor area    735   60.0\n",
       "35                    bathroom    692   57.0\n",
       "2                    with lift    672   55.0\n",
       "7             fitted wardrobes    649   53.0\n",
       "15                  en trámite    628   52.0\n",
       "0                    built in     562   46.0\n",
       "12                   bathrooms    521   43.0"
      ]
     },
     "execution_count": 394,
     "metadata": {},
     "output_type": "execute_result"
    }
   ],
   "source": [
    "def details_desc(series):\n",
    "    '''\n",
    "    Takes a df.column composed by lists, removes any number from the lists and returns a df \n",
    "    with the count of ocurrence of each element and percentage of ocurrence in the df.column.\n",
    "    '''\n",
    "    result = []\n",
    "    for list in series:\n",
    "        list = [l.replace(',', '').strip() for l in list] \n",
    "        list = [''.join(re.findall(r'\\D', l)) for l in list] # removing all numbers\n",
    "        for element in list:\n",
    "            result.append(element)\n",
    "    \n",
    "    result = Counter(result)\n",
    "    result = pd.DataFrame(result.items(), columns=['characteristic', 'count'])\n",
    "    result['per'] = round(result['count'] / len(series) * 100)\n",
    "    result.sort_values('count', inplace=True, ascending = False)\n",
    "    result = result.query(\"characteristic != ''\")\n",
    "    return(result)\n",
    "        \n",
    "\n",
    "all_details = details_desc(raw_data.details)\n",
    "all_details.head(10)"
   ]
  },
  {
   "cell_type": "markdown",
   "metadata": {},
   "source": [
    "We can see for example that all properties have information about m2 built but not all have information about the year they where built.\n",
    "\n",
    "Now we have to find a way to extract information from these lists. To do so I have created two different functions:\n",
    "\n",
    "**extract_num :** It will loop through each element of the list and filter those that contain the keyword then it will return the number asociated to the key word. Example: using the key_word: 'bedroom' in this list [3 bedrooms, 1 balcony, with lift] will return 3.\n",
    "\n",
    "**extract_bol :** It will loop through each element of the list and filter those that contain the keyword. If any element matches the key_word 1 will be returned if not 0. Example: using the key_word: 'fitted wardrobes' in this list [3 bedrooms, 1 balcony, with lift] will return 0.\n"
   ]
  },
  {
   "cell_type": "code",
   "execution_count": 395,
   "metadata": {},
   "outputs": [],
   "source": [
    "def extract_num(series, key_word):\n",
    "    '''\n",
    "    Takes a df.column composed by lists and a keyword.\n",
    "    Filters each list of the series depending on if it contains the keyword or not.\n",
    "        - If no element is found containing the keyword, np.nan will be returned.\n",
    "        - If there is a number in the filtered element it returns the number.\n",
    "        - If the keyword is found but no number is asociated it will return 0.\n",
    "    The output is a list of all numbers asociated.\n",
    "    '''\n",
    "    result = []\n",
    "    for list in series:\n",
    "        detail = [l.lower().replace(',', '') for l in list if key_word.lower() in l] # finds elements that contain the key_word\n",
    "        if len(detail) > 0:\n",
    "            num = re.findall(r'\\d+', detail[0])\n",
    "            \n",
    "            if len(num) > 0:\n",
    "                result.append(float(num[0]))\n",
    "            else: \n",
    "                result.append(0)\n",
    "        else:\n",
    "            result.append(np.nan)\n",
    "            \n",
    "    return(result)\n",
    "\n",
    "def extract_bol(series, key_word):\n",
    "    '''   \n",
    "    Takes a df.column composed by lists and a keyword.\n",
    "    Filters each list of the series depending on if it contains the keyword or not.\n",
    "        - If more than 0 element are found containing the keyword 1 will be returned.\n",
    "        - If no element are found containing the keyword 0 will be returned.\n",
    "    '''\n",
    "    result = []\n",
    "    for list in series:\n",
    "        detail = [l.lower() for l in list if key_word.lower() in l]\n",
    "        if len(detail) > 0:\n",
    "            result.append(1)\n",
    "        else: \n",
    "            result.append(0)\n",
    "            \n",
    "    return(result)"
   ]
  },
  {
   "cell_type": "markdown",
   "metadata": {},
   "source": [
    "This is just an auxiliary funtion to obtain row totals."
   ]
  },
  {
   "cell_type": "code",
   "execution_count": 396,
   "metadata": {},
   "outputs": [],
   "source": [
    "def adorn_totals(df):\n",
    "    '''\n",
    "    Takes a pd.DataFrame and returns the same df but with a totals row\n",
    "    '''\n",
    "    totals = df.sum()\n",
    "    mask = [type(l)==str for l in totals]\n",
    "    totals[mask] = 'Total'\n",
    "    result = df.append(totals, ignore_index=True)\n",
    "    return result"
   ]
  },
  {
   "cell_type": "markdown",
   "metadata": {},
   "source": [
    "### sq_m\n",
    "*description: square meters built*\n",
    "\n",
    "Lets try our function using the keyword 'm² built'. We saw that 100% of the properties had this information:"
   ]
  },
  {
   "cell_type": "code",
   "execution_count": 397,
   "metadata": {},
   "outputs": [
    {
     "data": {
      "text/html": [
       "<div>\n",
       "<style scoped>\n",
       "    .dataframe tbody tr th:only-of-type {\n",
       "        vertical-align: middle;\n",
       "    }\n",
       "\n",
       "    .dataframe tbody tr th {\n",
       "        vertical-align: top;\n",
       "    }\n",
       "\n",
       "    .dataframe thead th {\n",
       "        text-align: right;\n",
       "    }\n",
       "</style>\n",
       "<table border=\"1\" class=\"dataframe\">\n",
       "  <thead>\n",
       "    <tr style=\"text-align: right;\">\n",
       "      <th></th>\n",
       "      <th>characteristic</th>\n",
       "      <th>count</th>\n",
       "      <th>per</th>\n",
       "    </tr>\n",
       "  </thead>\n",
       "  <tbody>\n",
       "    <tr>\n",
       "      <th>4</th>\n",
       "      <td>m² built</td>\n",
       "      <td>1216</td>\n",
       "      <td>100.0</td>\n",
       "    </tr>\n",
       "  </tbody>\n",
       "</table>\n",
       "</div>"
      ],
      "text/plain": [
       "  characteristic  count    per\n",
       "4       m² built   1216  100.0"
      ]
     },
     "execution_count": 397,
     "metadata": {},
     "output_type": "execute_result"
    }
   ],
   "source": [
    "all_details.query(\"characteristic.str.contains('m² built')\")"
   ]
  },
  {
   "cell_type": "markdown",
   "metadata": {},
   "source": [
    "If we use the keyword 'm² built' we should get a number for each property. Lets extract the number, create a new column called 'sq_m' and check for na:"
   ]
  },
  {
   "cell_type": "code",
   "execution_count": 398,
   "metadata": {},
   "outputs": [
    {
     "data": {
      "text/html": [
       "<div>\n",
       "<style scoped>\n",
       "    .dataframe tbody tr th:only-of-type {\n",
       "        vertical-align: middle;\n",
       "    }\n",
       "\n",
       "    .dataframe tbody tr th {\n",
       "        vertical-align: top;\n",
       "    }\n",
       "\n",
       "    .dataframe thead th {\n",
       "        text-align: right;\n",
       "    }\n",
       "</style>\n",
       "<table border=\"1\" class=\"dataframe\">\n",
       "  <thead>\n",
       "    <tr style=\"text-align: right;\">\n",
       "      <th></th>\n",
       "      <th>variable</th>\n",
       "      <th>na_count</th>\n",
       "      <th>na_per</th>\n",
       "    </tr>\n",
       "  </thead>\n",
       "  <tbody>\n",
       "    <tr>\n",
       "      <th>10</th>\n",
       "      <td>sq_m</td>\n",
       "      <td>0</td>\n",
       "      <td>0.0</td>\n",
       "    </tr>\n",
       "  </tbody>\n",
       "</table>\n",
       "</div>"
      ],
      "text/plain": [
       "   variable  na_count  na_per\n",
       "10     sq_m         0     0.0"
      ]
     },
     "execution_count": 398,
     "metadata": {},
     "output_type": "execute_result"
    }
   ],
   "source": [
    "raw_data['sq_m'] = extract_num(raw_data.details, 'm² built')\n",
    "na_detail(raw_data).query(\"variable.str.contains('sq_m')\")"
   ]
  },
  {
   "cell_type": "markdown",
   "metadata": {},
   "source": [
    "We see that no na where generated. Everything seems to be working properly. Nevertheless we will print some general information to be more confident about our results"
   ]
  },
  {
   "cell_type": "code",
   "execution_count": 399,
   "metadata": {},
   "outputs": [
    {
     "data": {
      "text/plain": [
       "count    1216.000000\n",
       "mean      110.807566\n",
       "std        86.840846\n",
       "min        27.000000\n",
       "25%        70.000000\n",
       "50%        92.000000\n",
       "75%       134.000000\n",
       "max      2200.000000\n",
       "Name: sq_m, dtype: float64"
      ]
     },
     "execution_count": 399,
     "metadata": {},
     "output_type": "execute_result"
    }
   ],
   "source": [
    "raw_data.sq_m.describe()"
   ]
  },
  {
   "cell_type": "markdown",
   "metadata": {},
   "source": [
    "### bedrooms & bathrooms\n",
    "*description: number of bedrooms or bathrooms*\n",
    "\n",
    "We will repeat the same process for number of bedrooms and bathrooms. We see that if we apply the keyword 'bedroom' a number will be returned for 100% of the properties. "
   ]
  },
  {
   "cell_type": "code",
   "execution_count": 400,
   "metadata": {},
   "outputs": [
    {
     "data": {
      "text/html": [
       "<div>\n",
       "<style scoped>\n",
       "    .dataframe tbody tr th:only-of-type {\n",
       "        vertical-align: middle;\n",
       "    }\n",
       "\n",
       "    .dataframe tbody tr th {\n",
       "        vertical-align: top;\n",
       "    }\n",
       "\n",
       "    .dataframe thead th {\n",
       "        text-align: right;\n",
       "    }\n",
       "</style>\n",
       "<table border=\"1\" class=\"dataframe\">\n",
       "  <thead>\n",
       "    <tr style=\"text-align: right;\">\n",
       "      <th></th>\n",
       "      <th>characteristic</th>\n",
       "      <th>count</th>\n",
       "      <th>per</th>\n",
       "    </tr>\n",
       "  </thead>\n",
       "  <tbody>\n",
       "    <tr>\n",
       "      <th>0</th>\n",
       "      <td>bedrooms</td>\n",
       "      <td>1058</td>\n",
       "      <td>87.0</td>\n",
       "    </tr>\n",
       "    <tr>\n",
       "      <th>1</th>\n",
       "      <td>bedroom</td>\n",
       "      <td>138</td>\n",
       "      <td>11.0</td>\n",
       "    </tr>\n",
       "    <tr>\n",
       "      <th>2</th>\n",
       "      <td>no bedroom</td>\n",
       "      <td>19</td>\n",
       "      <td>2.0</td>\n",
       "    </tr>\n",
       "    <tr>\n",
       "      <th>3</th>\n",
       "      <td>or more bedrooms</td>\n",
       "      <td>1</td>\n",
       "      <td>0.0</td>\n",
       "    </tr>\n",
       "    <tr>\n",
       "      <th>4</th>\n",
       "      <td>Total</td>\n",
       "      <td>1216</td>\n",
       "      <td>100.0</td>\n",
       "    </tr>\n",
       "  </tbody>\n",
       "</table>\n",
       "</div>"
      ],
      "text/plain": [
       "      characteristic  count    per\n",
       "0           bedrooms   1058   87.0\n",
       "1            bedroom    138   11.0\n",
       "2         no bedroom     19    2.0\n",
       "3   or more bedrooms      1    0.0\n",
       "4              Total   1216  100.0"
      ]
     },
     "execution_count": 400,
     "metadata": {},
     "output_type": "execute_result"
    }
   ],
   "source": [
    "all_details.query(\"characteristic.str.contains('bedroom')\").pipe(adorn_totals)"
   ]
  },
  {
   "cell_type": "code",
   "execution_count": 401,
   "metadata": {},
   "outputs": [
    {
     "data": {
      "text/html": [
       "<div>\n",
       "<style scoped>\n",
       "    .dataframe tbody tr th:only-of-type {\n",
       "        vertical-align: middle;\n",
       "    }\n",
       "\n",
       "    .dataframe tbody tr th {\n",
       "        vertical-align: top;\n",
       "    }\n",
       "\n",
       "    .dataframe thead th {\n",
       "        text-align: right;\n",
       "    }\n",
       "</style>\n",
       "<table border=\"1\" class=\"dataframe\">\n",
       "  <thead>\n",
       "    <tr style=\"text-align: right;\">\n",
       "      <th></th>\n",
       "      <th>variable</th>\n",
       "      <th>na_count</th>\n",
       "      <th>na_per</th>\n",
       "    </tr>\n",
       "  </thead>\n",
       "  <tbody>\n",
       "    <tr>\n",
       "      <th>11</th>\n",
       "      <td>bedrooms</td>\n",
       "      <td>0</td>\n",
       "      <td>0.0</td>\n",
       "    </tr>\n",
       "  </tbody>\n",
       "</table>\n",
       "</div>"
      ],
      "text/plain": [
       "    variable  na_count  na_per\n",
       "11  bedrooms         0     0.0"
      ]
     },
     "execution_count": 401,
     "metadata": {},
     "output_type": "execute_result"
    }
   ],
   "source": [
    "raw_data['bedrooms'] = extract_num(raw_data.details, 'bedroom')\n",
    "na_detail(raw_data).query(\"variable.str.contains('bedrooms')\")"
   ]
  },
  {
   "cell_type": "markdown",
   "metadata": {},
   "source": [
    "Same hapends with keyword bathroom:"
   ]
  },
  {
   "cell_type": "code",
   "execution_count": 402,
   "metadata": {},
   "outputs": [
    {
     "data": {
      "text/html": [
       "<div>\n",
       "<style scoped>\n",
       "    .dataframe tbody tr th:only-of-type {\n",
       "        vertical-align: middle;\n",
       "    }\n",
       "\n",
       "    .dataframe tbody tr th {\n",
       "        vertical-align: top;\n",
       "    }\n",
       "\n",
       "    .dataframe thead th {\n",
       "        text-align: right;\n",
       "    }\n",
       "</style>\n",
       "<table border=\"1\" class=\"dataframe\">\n",
       "  <thead>\n",
       "    <tr style=\"text-align: right;\">\n",
       "      <th></th>\n",
       "      <th>characteristic</th>\n",
       "      <th>count</th>\n",
       "      <th>per</th>\n",
       "    </tr>\n",
       "  </thead>\n",
       "  <tbody>\n",
       "    <tr>\n",
       "      <th>0</th>\n",
       "      <td>bathroom</td>\n",
       "      <td>692</td>\n",
       "      <td>57.0</td>\n",
       "    </tr>\n",
       "    <tr>\n",
       "      <th>1</th>\n",
       "      <td>bathrooms</td>\n",
       "      <td>521</td>\n",
       "      <td>43.0</td>\n",
       "    </tr>\n",
       "    <tr>\n",
       "      <th>2</th>\n",
       "      <td>no bathroom</td>\n",
       "      <td>3</td>\n",
       "      <td>0.0</td>\n",
       "    </tr>\n",
       "    <tr>\n",
       "      <th>3</th>\n",
       "      <td>Total</td>\n",
       "      <td>1216</td>\n",
       "      <td>100.0</td>\n",
       "    </tr>\n",
       "  </tbody>\n",
       "</table>\n",
       "</div>"
      ],
      "text/plain": [
       "  characteristic  count    per\n",
       "0       bathroom    692   57.0\n",
       "1      bathrooms    521   43.0\n",
       "2    no bathroom      3    0.0\n",
       "3          Total   1216  100.0"
      ]
     },
     "execution_count": 402,
     "metadata": {},
     "output_type": "execute_result"
    }
   ],
   "source": [
    "all_details.query(\"characteristic.str.contains('bathroom')\").pipe(adorn_totals)"
   ]
  },
  {
   "cell_type": "code",
   "execution_count": 403,
   "metadata": {},
   "outputs": [
    {
     "data": {
      "text/html": [
       "<div>\n",
       "<style scoped>\n",
       "    .dataframe tbody tr th:only-of-type {\n",
       "        vertical-align: middle;\n",
       "    }\n",
       "\n",
       "    .dataframe tbody tr th {\n",
       "        vertical-align: top;\n",
       "    }\n",
       "\n",
       "    .dataframe thead th {\n",
       "        text-align: right;\n",
       "    }\n",
       "</style>\n",
       "<table border=\"1\" class=\"dataframe\">\n",
       "  <thead>\n",
       "    <tr style=\"text-align: right;\">\n",
       "      <th></th>\n",
       "      <th>variable</th>\n",
       "      <th>na_count</th>\n",
       "      <th>na_per</th>\n",
       "    </tr>\n",
       "  </thead>\n",
       "  <tbody>\n",
       "    <tr>\n",
       "      <th>12</th>\n",
       "      <td>bathrooms</td>\n",
       "      <td>0</td>\n",
       "      <td>0.0</td>\n",
       "    </tr>\n",
       "  </tbody>\n",
       "</table>\n",
       "</div>"
      ],
      "text/plain": [
       "     variable  na_count  na_per\n",
       "12  bathrooms         0     0.0"
      ]
     },
     "execution_count": 403,
     "metadata": {},
     "output_type": "execute_result"
    }
   ],
   "source": [
    "raw_data['bathrooms'] = extract_num(raw_data.details, 'bathroom')\n",
    "na_detail(raw_data).query(\"variable.str.contains('bathrooms')\")"
   ]
  },
  {
   "cell_type": "markdown",
   "metadata": {},
   "source": [
    "### const_year\n",
    "*description: year of construction*\n",
    "\n",
    "From our all_details data frame we can see that only 46% of the properties have information about the construction year. We will still try to extract it but i am not sure if it will be of any use in the future."
   ]
  },
  {
   "cell_type": "code",
   "execution_count": 404,
   "metadata": {},
   "outputs": [
    {
     "data": {
      "text/html": [
       "<div>\n",
       "<style scoped>\n",
       "    .dataframe tbody tr th:only-of-type {\n",
       "        vertical-align: middle;\n",
       "    }\n",
       "\n",
       "    .dataframe tbody tr th {\n",
       "        vertical-align: top;\n",
       "    }\n",
       "\n",
       "    .dataframe thead th {\n",
       "        text-align: right;\n",
       "    }\n",
       "</style>\n",
       "<table border=\"1\" class=\"dataframe\">\n",
       "  <thead>\n",
       "    <tr style=\"text-align: right;\">\n",
       "      <th></th>\n",
       "      <th>characteristic</th>\n",
       "      <th>count</th>\n",
       "      <th>per</th>\n",
       "    </tr>\n",
       "  </thead>\n",
       "  <tbody>\n",
       "    <tr>\n",
       "      <th>0</th>\n",
       "      <td>built in</td>\n",
       "      <td>562</td>\n",
       "      <td>46.0</td>\n",
       "    </tr>\n",
       "    <tr>\n",
       "      <th>1</th>\n",
       "      <td>Total</td>\n",
       "      <td>562</td>\n",
       "      <td>46.0</td>\n",
       "    </tr>\n",
       "  </tbody>\n",
       "</table>\n",
       "</div>"
      ],
      "text/plain": [
       "  characteristic  count   per\n",
       "0      built in     562  46.0\n",
       "1          Total    562  46.0"
      ]
     },
     "execution_count": 404,
     "metadata": {},
     "output_type": "execute_result"
    }
   ],
   "source": [
    "all_details.query(\"characteristic.str.contains('built in')\").pipe(adorn_totals)"
   ]
  },
  {
   "cell_type": "code",
   "execution_count": 405,
   "metadata": {},
   "outputs": [
    {
     "data": {
      "text/html": [
       "<div>\n",
       "<style scoped>\n",
       "    .dataframe tbody tr th:only-of-type {\n",
       "        vertical-align: middle;\n",
       "    }\n",
       "\n",
       "    .dataframe tbody tr th {\n",
       "        vertical-align: top;\n",
       "    }\n",
       "\n",
       "    .dataframe thead th {\n",
       "        text-align: right;\n",
       "    }\n",
       "</style>\n",
       "<table border=\"1\" class=\"dataframe\">\n",
       "  <thead>\n",
       "    <tr style=\"text-align: right;\">\n",
       "      <th></th>\n",
       "      <th>variable</th>\n",
       "      <th>na_count</th>\n",
       "      <th>na_per</th>\n",
       "    </tr>\n",
       "  </thead>\n",
       "  <tbody>\n",
       "    <tr>\n",
       "      <th>13</th>\n",
       "      <td>const_year</td>\n",
       "      <td>654</td>\n",
       "      <td>53.78</td>\n",
       "    </tr>\n",
       "  </tbody>\n",
       "</table>\n",
       "</div>"
      ],
      "text/plain": [
       "      variable  na_count  na_per\n",
       "13  const_year       654   53.78"
      ]
     },
     "execution_count": 405,
     "metadata": {},
     "output_type": "execute_result"
    }
   ],
   "source": [
    "raw_data['const_year'] = extract_num(raw_data.details, 'built in')\n",
    "na_detail(raw_data).query(\"variable.str.contains('const_year')\")"
   ]
  },
  {
   "cell_type": "markdown",
   "metadata": {},
   "source": [
    "### floor\n",
    "*description: floor of the property*\n",
    "\n",
    "If we use the key_word 'floor' to filter the characteristics we see that there are some characteristics that are not related to the floor number. These are 'm² floor area' and 'floors'. We should replace those descriptions so we can extract the floor number with no interference. Same thing happends with 'floors', it looks like it refers to the number of floors the property has more than the actual floor number of the house so we can replace it for 'decks' for example. "
   ]
  },
  {
   "cell_type": "code",
   "execution_count": 406,
   "metadata": {},
   "outputs": [
    {
     "data": {
      "text/html": [
       "<div>\n",
       "<style scoped>\n",
       "    .dataframe tbody tr th:only-of-type {\n",
       "        vertical-align: middle;\n",
       "    }\n",
       "\n",
       "    .dataframe tbody tr th {\n",
       "        vertical-align: top;\n",
       "    }\n",
       "\n",
       "    .dataframe thead th {\n",
       "        text-align: right;\n",
       "    }\n",
       "</style>\n",
       "<table border=\"1\" class=\"dataframe\">\n",
       "  <thead>\n",
       "    <tr style=\"text-align: right;\">\n",
       "      <th></th>\n",
       "      <th>characteristic</th>\n",
       "      <th>count</th>\n",
       "      <th>per</th>\n",
       "    </tr>\n",
       "  </thead>\n",
       "  <tbody>\n",
       "    <tr>\n",
       "      <th>0</th>\n",
       "      <td>m² floor area</td>\n",
       "      <td>735</td>\n",
       "      <td>60.0</td>\n",
       "    </tr>\n",
       "    <tr>\n",
       "      <th>1</th>\n",
       "      <td>st floor exterior</td>\n",
       "      <td>208</td>\n",
       "      <td>17.0</td>\n",
       "    </tr>\n",
       "    <tr>\n",
       "      <th>2</th>\n",
       "      <td>rd floor exterior</td>\n",
       "      <td>192</td>\n",
       "      <td>16.0</td>\n",
       "    </tr>\n",
       "    <tr>\n",
       "      <th>3</th>\n",
       "      <td>th floor exterior</td>\n",
       "      <td>181</td>\n",
       "      <td>15.0</td>\n",
       "    </tr>\n",
       "    <tr>\n",
       "      <th>4</th>\n",
       "      <td>nd floor exterior</td>\n",
       "      <td>159</td>\n",
       "      <td>13.0</td>\n",
       "    </tr>\n",
       "    <tr>\n",
       "      <th>5</th>\n",
       "      <td>ground floor exterior</td>\n",
       "      <td>130</td>\n",
       "      <td>11.0</td>\n",
       "    </tr>\n",
       "    <tr>\n",
       "      <th>6</th>\n",
       "      <td>rd floor</td>\n",
       "      <td>38</td>\n",
       "      <td>3.0</td>\n",
       "    </tr>\n",
       "    <tr>\n",
       "      <th>7</th>\n",
       "      <td>ground floor</td>\n",
       "      <td>38</td>\n",
       "      <td>3.0</td>\n",
       "    </tr>\n",
       "    <tr>\n",
       "      <th>8</th>\n",
       "      <td>ground floor interior</td>\n",
       "      <td>38</td>\n",
       "      <td>3.0</td>\n",
       "    </tr>\n",
       "    <tr>\n",
       "      <th>9</th>\n",
       "      <td>nd floor</td>\n",
       "      <td>32</td>\n",
       "      <td>3.0</td>\n",
       "    </tr>\n",
       "    <tr>\n",
       "      <th>10</th>\n",
       "      <td>st floor</td>\n",
       "      <td>32</td>\n",
       "      <td>3.0</td>\n",
       "    </tr>\n",
       "    <tr>\n",
       "      <th>11</th>\n",
       "      <td>nd floor interior</td>\n",
       "      <td>29</td>\n",
       "      <td>2.0</td>\n",
       "    </tr>\n",
       "    <tr>\n",
       "      <th>12</th>\n",
       "      <td>st floor interior</td>\n",
       "      <td>26</td>\n",
       "      <td>2.0</td>\n",
       "    </tr>\n",
       "    <tr>\n",
       "      <th>13</th>\n",
       "      <td>th floor</td>\n",
       "      <td>24</td>\n",
       "      <td>2.0</td>\n",
       "    </tr>\n",
       "    <tr>\n",
       "      <th>14</th>\n",
       "      <td>rd floor interior</td>\n",
       "      <td>11</td>\n",
       "      <td>1.0</td>\n",
       "    </tr>\n",
       "    <tr>\n",
       "      <th>15</th>\n",
       "      <td>floors</td>\n",
       "      <td>8</td>\n",
       "      <td>1.0</td>\n",
       "    </tr>\n",
       "    <tr>\n",
       "      <th>16</th>\n",
       "      <td>th floor interior</td>\n",
       "      <td>6</td>\n",
       "      <td>0.0</td>\n",
       "    </tr>\n",
       "    <tr>\n",
       "      <th>17</th>\n",
       "      <td>Total</td>\n",
       "      <td>1887</td>\n",
       "      <td>155.0</td>\n",
       "    </tr>\n",
       "  </tbody>\n",
       "</table>\n",
       "</div>"
      ],
      "text/plain": [
       "           characteristic  count    per\n",
       "0           m² floor area    735   60.0\n",
       "1       st floor exterior    208   17.0\n",
       "2       rd floor exterior    192   16.0\n",
       "3       th floor exterior    181   15.0\n",
       "4       nd floor exterior    159   13.0\n",
       "5   ground floor exterior    130   11.0\n",
       "6                rd floor     38    3.0\n",
       "7            ground floor     38    3.0\n",
       "8   ground floor interior     38    3.0\n",
       "9                nd floor     32    3.0\n",
       "10               st floor     32    3.0\n",
       "11      nd floor interior     29    2.0\n",
       "12      st floor interior     26    2.0\n",
       "13               th floor     24    2.0\n",
       "14      rd floor interior     11    1.0\n",
       "15                 floors      8    1.0\n",
       "16      th floor interior      6    0.0\n",
       "17                  Total   1887  155.0"
      ]
     },
     "execution_count": 406,
     "metadata": {},
     "output_type": "execute_result"
    }
   ],
   "source": [
    "all_details.query(\"characteristic.str.contains('floor')\").pipe(adorn_totals)"
   ]
  },
  {
   "cell_type": "markdown",
   "metadata": {},
   "source": [
    "So we will firs replace those descriptions from the details lists and then extract the floor number. To replace descriptions in the lists i have created the following function:"
   ]
  },
  {
   "cell_type": "code",
   "execution_count": 407,
   "metadata": {},
   "outputs": [],
   "source": [
    "def replace_str(array, str, repl_str):\n",
    "    '''\n",
    "     Takes:\n",
    "        - array: df.column composed by lists\n",
    "        - str: string to be replaced\n",
    "        - repl_str: string to replace\n",
    "    Returns the same array with the string replaced.\n",
    "    '''\n",
    "    result = []\n",
    "    for list in array:\n",
    "        new_list = [l.replace(str, repl_str) for l in list]\n",
    "        result.append(new_list)\n",
    "    return result"
   ]
  },
  {
   "cell_type": "code",
   "execution_count": 408,
   "metadata": {},
   "outputs": [],
   "source": [
    "raw_data.details = replace_str(raw_data.details, 'm² floor area', 'sq_m_cons')\n",
    "raw_data.details = replace_str(raw_data.details, 'floors', 'decks')"
   ]
  },
  {
   "cell_type": "markdown",
   "metadata": {},
   "source": [
    "If we create again 'all_details' df and check the keyword 'floor' we can see that all characteristic listed are now referring to the floor number and we are ready to extract the number."
   ]
  },
  {
   "cell_type": "code",
   "execution_count": 409,
   "metadata": {},
   "outputs": [
    {
     "data": {
      "text/html": [
       "<div>\n",
       "<style scoped>\n",
       "    .dataframe tbody tr th:only-of-type {\n",
       "        vertical-align: middle;\n",
       "    }\n",
       "\n",
       "    .dataframe tbody tr th {\n",
       "        vertical-align: top;\n",
       "    }\n",
       "\n",
       "    .dataframe thead th {\n",
       "        text-align: right;\n",
       "    }\n",
       "</style>\n",
       "<table border=\"1\" class=\"dataframe\">\n",
       "  <thead>\n",
       "    <tr style=\"text-align: right;\">\n",
       "      <th></th>\n",
       "      <th>characteristic</th>\n",
       "      <th>count</th>\n",
       "      <th>per</th>\n",
       "    </tr>\n",
       "  </thead>\n",
       "  <tbody>\n",
       "    <tr>\n",
       "      <th>0</th>\n",
       "      <td>st floor exterior</td>\n",
       "      <td>208</td>\n",
       "      <td>17.0</td>\n",
       "    </tr>\n",
       "    <tr>\n",
       "      <th>1</th>\n",
       "      <td>rd floor exterior</td>\n",
       "      <td>192</td>\n",
       "      <td>16.0</td>\n",
       "    </tr>\n",
       "    <tr>\n",
       "      <th>2</th>\n",
       "      <td>th floor exterior</td>\n",
       "      <td>181</td>\n",
       "      <td>15.0</td>\n",
       "    </tr>\n",
       "    <tr>\n",
       "      <th>3</th>\n",
       "      <td>nd floor exterior</td>\n",
       "      <td>159</td>\n",
       "      <td>13.0</td>\n",
       "    </tr>\n",
       "    <tr>\n",
       "      <th>4</th>\n",
       "      <td>ground floor exterior</td>\n",
       "      <td>130</td>\n",
       "      <td>11.0</td>\n",
       "    </tr>\n",
       "    <tr>\n",
       "      <th>5</th>\n",
       "      <td>rd floor</td>\n",
       "      <td>38</td>\n",
       "      <td>3.0</td>\n",
       "    </tr>\n",
       "    <tr>\n",
       "      <th>6</th>\n",
       "      <td>ground floor</td>\n",
       "      <td>38</td>\n",
       "      <td>3.0</td>\n",
       "    </tr>\n",
       "    <tr>\n",
       "      <th>7</th>\n",
       "      <td>ground floor interior</td>\n",
       "      <td>38</td>\n",
       "      <td>3.0</td>\n",
       "    </tr>\n",
       "    <tr>\n",
       "      <th>8</th>\n",
       "      <td>nd floor</td>\n",
       "      <td>32</td>\n",
       "      <td>3.0</td>\n",
       "    </tr>\n",
       "    <tr>\n",
       "      <th>9</th>\n",
       "      <td>st floor</td>\n",
       "      <td>32</td>\n",
       "      <td>3.0</td>\n",
       "    </tr>\n",
       "    <tr>\n",
       "      <th>10</th>\n",
       "      <td>nd floor interior</td>\n",
       "      <td>29</td>\n",
       "      <td>2.0</td>\n",
       "    </tr>\n",
       "    <tr>\n",
       "      <th>11</th>\n",
       "      <td>st floor interior</td>\n",
       "      <td>26</td>\n",
       "      <td>2.0</td>\n",
       "    </tr>\n",
       "    <tr>\n",
       "      <th>12</th>\n",
       "      <td>th floor</td>\n",
       "      <td>24</td>\n",
       "      <td>2.0</td>\n",
       "    </tr>\n",
       "    <tr>\n",
       "      <th>13</th>\n",
       "      <td>rd floor interior</td>\n",
       "      <td>11</td>\n",
       "      <td>1.0</td>\n",
       "    </tr>\n",
       "    <tr>\n",
       "      <th>14</th>\n",
       "      <td>th floor interior</td>\n",
       "      <td>6</td>\n",
       "      <td>0.0</td>\n",
       "    </tr>\n",
       "    <tr>\n",
       "      <th>15</th>\n",
       "      <td>Total</td>\n",
       "      <td>1144</td>\n",
       "      <td>94.0</td>\n",
       "    </tr>\n",
       "  </tbody>\n",
       "</table>\n",
       "</div>"
      ],
      "text/plain": [
       "           characteristic  count   per\n",
       "0       st floor exterior    208  17.0\n",
       "1       rd floor exterior    192  16.0\n",
       "2       th floor exterior    181  15.0\n",
       "3       nd floor exterior    159  13.0\n",
       "4   ground floor exterior    130  11.0\n",
       "5                rd floor     38   3.0\n",
       "6            ground floor     38   3.0\n",
       "7   ground floor interior     38   3.0\n",
       "8                nd floor     32   3.0\n",
       "9                st floor     32   3.0\n",
       "10      nd floor interior     29   2.0\n",
       "11      st floor interior     26   2.0\n",
       "12               th floor     24   2.0\n",
       "13      rd floor interior     11   1.0\n",
       "14      th floor interior      6   0.0\n",
       "15                  Total   1144  94.0"
      ]
     },
     "execution_count": 409,
     "metadata": {},
     "output_type": "execute_result"
    }
   ],
   "source": [
    "all_details = details_desc(raw_data.details)\n",
    "all_details.query(\"characteristic.str.contains('floor')\").pipe(adorn_totals)"
   ]
  },
  {
   "cell_type": "code",
   "execution_count": 410,
   "metadata": {},
   "outputs": [
    {
     "data": {
      "text/html": [
       "<div>\n",
       "<style scoped>\n",
       "    .dataframe tbody tr th:only-of-type {\n",
       "        vertical-align: middle;\n",
       "    }\n",
       "\n",
       "    .dataframe tbody tr th {\n",
       "        vertical-align: top;\n",
       "    }\n",
       "\n",
       "    .dataframe thead th {\n",
       "        text-align: right;\n",
       "    }\n",
       "</style>\n",
       "<table border=\"1\" class=\"dataframe\">\n",
       "  <thead>\n",
       "    <tr style=\"text-align: right;\">\n",
       "      <th></th>\n",
       "      <th>variable</th>\n",
       "      <th>na_count</th>\n",
       "      <th>na_per</th>\n",
       "    </tr>\n",
       "  </thead>\n",
       "  <tbody>\n",
       "    <tr>\n",
       "      <th>14</th>\n",
       "      <td>floor</td>\n",
       "      <td>72</td>\n",
       "      <td>5.92</td>\n",
       "    </tr>\n",
       "  </tbody>\n",
       "</table>\n",
       "</div>"
      ],
      "text/plain": [
       "   variable  na_count  na_per\n",
       "14    floor        72    5.92"
      ]
     },
     "execution_count": 410,
     "metadata": {},
     "output_type": "execute_result"
    }
   ],
   "source": [
    "raw_data['floor'] = extract_num(raw_data.details, 'floor')\n",
    "na_detail(raw_data).query(\"variable.str.contains('floor')\")"
   ]
  },
  {
   "cell_type": "markdown",
   "metadata": {},
   "source": [
    "From  'na_detail' we confirm that we extracted the floor number of aprox 94% of our data "
   ]
  },
  {
   "cell_type": "markdown",
   "metadata": {},
   "source": [
    "### lift\n",
    "*description: if the proferty has lift or not*\n",
    "97% of the properties have information about if it has lift or not. We will just use our 'extract_bol' to check if the key_word 'with lift' is there or not. We will consider that the 3% of properties with no info about lift do not have it."
   ]
  },
  {
   "cell_type": "code",
   "execution_count": 411,
   "metadata": {},
   "outputs": [
    {
     "data": {
      "text/html": [
       "<div>\n",
       "<style scoped>\n",
       "    .dataframe tbody tr th:only-of-type {\n",
       "        vertical-align: middle;\n",
       "    }\n",
       "\n",
       "    .dataframe tbody tr th {\n",
       "        vertical-align: top;\n",
       "    }\n",
       "\n",
       "    .dataframe thead th {\n",
       "        text-align: right;\n",
       "    }\n",
       "</style>\n",
       "<table border=\"1\" class=\"dataframe\">\n",
       "  <thead>\n",
       "    <tr style=\"text-align: right;\">\n",
       "      <th></th>\n",
       "      <th>characteristic</th>\n",
       "      <th>count</th>\n",
       "      <th>per</th>\n",
       "    </tr>\n",
       "  </thead>\n",
       "  <tbody>\n",
       "    <tr>\n",
       "      <th>0</th>\n",
       "      <td>with lift</td>\n",
       "      <td>672</td>\n",
       "      <td>55.0</td>\n",
       "    </tr>\n",
       "    <tr>\n",
       "      <th>1</th>\n",
       "      <td>no lift</td>\n",
       "      <td>509</td>\n",
       "      <td>42.0</td>\n",
       "    </tr>\n",
       "    <tr>\n",
       "      <th>2</th>\n",
       "      <td>Total</td>\n",
       "      <td>1181</td>\n",
       "      <td>97.0</td>\n",
       "    </tr>\n",
       "  </tbody>\n",
       "</table>\n",
       "</div>"
      ],
      "text/plain": [
       "  characteristic  count   per\n",
       "0      with lift    672  55.0\n",
       "1        no lift    509  42.0\n",
       "2          Total   1181  97.0"
      ]
     },
     "execution_count": 411,
     "metadata": {},
     "output_type": "execute_result"
    }
   ],
   "source": [
    "all_details.query(\"characteristic.str.contains('lift')\").pipe(adorn_totals)"
   ]
  },
  {
   "cell_type": "code",
   "execution_count": 412,
   "metadata": {},
   "outputs": [
    {
     "data": {
      "text/html": [
       "<div>\n",
       "<style scoped>\n",
       "    .dataframe tbody tr th:only-of-type {\n",
       "        vertical-align: middle;\n",
       "    }\n",
       "\n",
       "    .dataframe tbody tr th {\n",
       "        vertical-align: top;\n",
       "    }\n",
       "\n",
       "    .dataframe thead th {\n",
       "        text-align: right;\n",
       "    }\n",
       "</style>\n",
       "<table border=\"1\" class=\"dataframe\">\n",
       "  <thead>\n",
       "    <tr style=\"text-align: right;\">\n",
       "      <th></th>\n",
       "      <th>variable</th>\n",
       "      <th>na_count</th>\n",
       "      <th>na_per</th>\n",
       "    </tr>\n",
       "  </thead>\n",
       "  <tbody>\n",
       "    <tr>\n",
       "      <th>15</th>\n",
       "      <td>lift</td>\n",
       "      <td>0</td>\n",
       "      <td>0.0</td>\n",
       "    </tr>\n",
       "  </tbody>\n",
       "</table>\n",
       "</div>"
      ],
      "text/plain": [
       "   variable  na_count  na_per\n",
       "15     lift         0     0.0"
      ]
     },
     "execution_count": 412,
     "metadata": {},
     "output_type": "execute_result"
    }
   ],
   "source": [
    "raw_data['lift'] = extract_bol(raw_data.details, 'with lift')\n",
    "na_detail(raw_data).query(\"variable.str.contains('lift')\")"
   ]
  },
  {
   "cell_type": "markdown",
   "metadata": {},
   "source": [
    "### balcony\n",
    "*description: if the proferty has balcony or not*"
   ]
  },
  {
   "cell_type": "code",
   "execution_count": 413,
   "metadata": {},
   "outputs": [],
   "source": [
    "raw_data['balcony'] = extract_bol(raw_data.details, 'balcony')"
   ]
  },
  {
   "cell_type": "markdown",
   "metadata": {},
   "source": [
    "### air_con\n",
    "*description: if the proferty has air_con or not*"
   ]
  },
  {
   "cell_type": "code",
   "execution_count": 414,
   "metadata": {},
   "outputs": [],
   "source": [
    "raw_data['air_con'] = extract_bol(raw_data.details, 'air conditioning')"
   ]
  },
  {
   "cell_type": "markdown",
   "metadata": {},
   "source": [
    "### ft_wardrobes\n",
    "*description: if the proferty has ft_wardrobes or not*"
   ]
  },
  {
   "cell_type": "code",
   "execution_count": 415,
   "metadata": {},
   "outputs": [],
   "source": [
    "raw_data['ft_wardrobes'] = extract_bol(raw_data.details, 'fitted wardrobes')"
   ]
  },
  {
   "cell_type": "markdown",
   "metadata": {},
   "source": [
    "### terrace\n",
    "*description: if the proferty has terrace or not*"
   ]
  },
  {
   "cell_type": "code",
   "execution_count": 416,
   "metadata": {},
   "outputs": [],
   "source": [
    "raw_data['terrace'] = extract_bol(raw_data.details, 'terrace')"
   ]
  },
  {
   "cell_type": "markdown",
   "metadata": {},
   "source": [
    "### exterior\n",
    "*description: if the proferty has exterior views or not*"
   ]
  },
  {
   "cell_type": "code",
   "execution_count": 417,
   "metadata": {},
   "outputs": [
    {
     "data": {
      "text/html": [
       "<div>\n",
       "<style scoped>\n",
       "    .dataframe tbody tr th:only-of-type {\n",
       "        vertical-align: middle;\n",
       "    }\n",
       "\n",
       "    .dataframe tbody tr th {\n",
       "        vertical-align: top;\n",
       "    }\n",
       "\n",
       "    .dataframe thead th {\n",
       "        text-align: right;\n",
       "    }\n",
       "</style>\n",
       "<table border=\"1\" class=\"dataframe\">\n",
       "  <thead>\n",
       "    <tr style=\"text-align: right;\">\n",
       "      <th></th>\n",
       "      <th>characteristic</th>\n",
       "      <th>count</th>\n",
       "      <th>per</th>\n",
       "    </tr>\n",
       "  </thead>\n",
       "  <tbody>\n",
       "    <tr>\n",
       "      <th>0</th>\n",
       "      <td>st floor exterior</td>\n",
       "      <td>208</td>\n",
       "      <td>17.0</td>\n",
       "    </tr>\n",
       "    <tr>\n",
       "      <th>1</th>\n",
       "      <td>rd floor exterior</td>\n",
       "      <td>192</td>\n",
       "      <td>16.0</td>\n",
       "    </tr>\n",
       "    <tr>\n",
       "      <th>2</th>\n",
       "      <td>th floor exterior</td>\n",
       "      <td>181</td>\n",
       "      <td>15.0</td>\n",
       "    </tr>\n",
       "    <tr>\n",
       "      <th>3</th>\n",
       "      <td>nd floor exterior</td>\n",
       "      <td>159</td>\n",
       "      <td>13.0</td>\n",
       "    </tr>\n",
       "    <tr>\n",
       "      <th>4</th>\n",
       "      <td>ground floor exterior</td>\n",
       "      <td>130</td>\n",
       "      <td>11.0</td>\n",
       "    </tr>\n",
       "    <tr>\n",
       "      <th>5</th>\n",
       "      <td>mezzanine exterior</td>\n",
       "      <td>18</td>\n",
       "      <td>1.0</td>\n",
       "    </tr>\n",
       "    <tr>\n",
       "      <th>6</th>\n",
       "      <td>exterior</td>\n",
       "      <td>10</td>\n",
       "      <td>1.0</td>\n",
       "    </tr>\n",
       "    <tr>\n",
       "      <th>7</th>\n",
       "      <td>Total</td>\n",
       "      <td>898</td>\n",
       "      <td>74.0</td>\n",
       "    </tr>\n",
       "  </tbody>\n",
       "</table>\n",
       "</div>"
      ],
      "text/plain": [
       "          characteristic  count   per\n",
       "0      st floor exterior    208  17.0\n",
       "1      rd floor exterior    192  16.0\n",
       "2      th floor exterior    181  15.0\n",
       "3      nd floor exterior    159  13.0\n",
       "4  ground floor exterior    130  11.0\n",
       "5     mezzanine exterior     18   1.0\n",
       "6               exterior     10   1.0\n",
       "7                  Total    898  74.0"
      ]
     },
     "execution_count": 417,
     "metadata": {},
     "output_type": "execute_result"
    }
   ],
   "source": [
    "all_details.query(\"characteristic.str.contains('ext')\").pipe(adorn_totals)"
   ]
  },
  {
   "cell_type": "code",
   "execution_count": 418,
   "metadata": {},
   "outputs": [],
   "source": [
    "raw_data['exterior'] = extract_bol(raw_data.details, 'exterior')"
   ]
  },
  {
   "cell_type": "markdown",
   "metadata": {},
   "source": [
    "### heating\n",
    "*description: type of heating system*\n",
    "\n",
    "As we can see from our all_details data frame, there are many categories for heating system. In order to simplify this column we will only account for three types: no heating, individual heating and central heating. If no information is found about heating we will consider that there is no heating system."
   ]
  },
  {
   "cell_type": "code",
   "execution_count": 419,
   "metadata": {},
   "outputs": [
    {
     "data": {
      "text/html": [
       "<div>\n",
       "<style scoped>\n",
       "    .dataframe tbody tr th:only-of-type {\n",
       "        vertical-align: middle;\n",
       "    }\n",
       "\n",
       "    .dataframe tbody tr th {\n",
       "        vertical-align: top;\n",
       "    }\n",
       "\n",
       "    .dataframe thead th {\n",
       "        text-align: right;\n",
       "    }\n",
       "</style>\n",
       "<table border=\"1\" class=\"dataframe\">\n",
       "  <thead>\n",
       "    <tr style=\"text-align: right;\">\n",
       "      <th></th>\n",
       "      <th>characteristic</th>\n",
       "      <th>count</th>\n",
       "      <th>per</th>\n",
       "    </tr>\n",
       "  </thead>\n",
       "  <tbody>\n",
       "    <tr>\n",
       "      <th>0</th>\n",
       "      <td>no heating</td>\n",
       "      <td>518</td>\n",
       "      <td>43.0</td>\n",
       "    </tr>\n",
       "    <tr>\n",
       "      <th>1</th>\n",
       "      <td>individual heating</td>\n",
       "      <td>58</td>\n",
       "      <td>5.0</td>\n",
       "    </tr>\n",
       "    <tr>\n",
       "      <th>2</th>\n",
       "      <td>central heating</td>\n",
       "      <td>28</td>\n",
       "      <td>2.0</td>\n",
       "    </tr>\n",
       "    <tr>\n",
       "      <th>3</th>\n",
       "      <td>individual heating: electric</td>\n",
       "      <td>22</td>\n",
       "      <td>2.0</td>\n",
       "    </tr>\n",
       "    <tr>\n",
       "      <th>4</th>\n",
       "      <td>individual heating: air conditioning/heat pump</td>\n",
       "      <td>18</td>\n",
       "      <td>1.0</td>\n",
       "    </tr>\n",
       "    <tr>\n",
       "      <th>5</th>\n",
       "      <td>individual heating: natural gas</td>\n",
       "      <td>14</td>\n",
       "      <td>1.0</td>\n",
       "    </tr>\n",
       "    <tr>\n",
       "      <th>6</th>\n",
       "      <td>central heating: gas</td>\n",
       "      <td>6</td>\n",
       "      <td>0.0</td>\n",
       "    </tr>\n",
       "    <tr>\n",
       "      <th>7</th>\n",
       "      <td>individual heating: propane/butane gas</td>\n",
       "      <td>2</td>\n",
       "      <td>0.0</td>\n",
       "    </tr>\n",
       "    <tr>\n",
       "      <th>8</th>\n",
       "      <td>Total</td>\n",
       "      <td>666</td>\n",
       "      <td>54.0</td>\n",
       "    </tr>\n",
       "  </tbody>\n",
       "</table>\n",
       "</div>"
      ],
      "text/plain": [
       "                                   characteristic  count   per\n",
       "0                                      no heating    518  43.0\n",
       "1                              individual heating     58   5.0\n",
       "2                                 central heating     28   2.0\n",
       "3                    individual heating: electric     22   2.0\n",
       "4  individual heating: air conditioning/heat pump     18   1.0\n",
       "5                 individual heating: natural gas     14   1.0\n",
       "6                            central heating: gas      6   0.0\n",
       "7          individual heating: propane/butane gas      2   0.0\n",
       "8                                           Total    666  54.0"
      ]
     },
     "execution_count": 419,
     "metadata": {},
     "output_type": "execute_result"
    }
   ],
   "source": [
    "all_details.query(\"characteristic.str.contains('heating')\").pipe(adorn_totals)"
   ]
  },
  {
   "cell_type": "markdown",
   "metadata": {},
   "source": [
    "We then have to make some replacements in the lists contained in our detail columns"
   ]
  },
  {
   "cell_type": "code",
   "execution_count": 420,
   "metadata": {},
   "outputs": [
    {
     "data": {
      "text/html": [
       "<div>\n",
       "<style scoped>\n",
       "    .dataframe tbody tr th:only-of-type {\n",
       "        vertical-align: middle;\n",
       "    }\n",
       "\n",
       "    .dataframe tbody tr th {\n",
       "        vertical-align: top;\n",
       "    }\n",
       "\n",
       "    .dataframe thead th {\n",
       "        text-align: right;\n",
       "    }\n",
       "</style>\n",
       "<table border=\"1\" class=\"dataframe\">\n",
       "  <thead>\n",
       "    <tr style=\"text-align: right;\">\n",
       "      <th></th>\n",
       "      <th>characteristic</th>\n",
       "      <th>count</th>\n",
       "      <th>per</th>\n",
       "    </tr>\n",
       "  </thead>\n",
       "  <tbody>\n",
       "    <tr>\n",
       "      <th>0</th>\n",
       "      <td>no heating</td>\n",
       "      <td>518</td>\n",
       "      <td>43.0</td>\n",
       "    </tr>\n",
       "    <tr>\n",
       "      <th>1</th>\n",
       "      <td>individual heating</td>\n",
       "      <td>114</td>\n",
       "      <td>9.0</td>\n",
       "    </tr>\n",
       "    <tr>\n",
       "      <th>2</th>\n",
       "      <td>central heating</td>\n",
       "      <td>34</td>\n",
       "      <td>3.0</td>\n",
       "    </tr>\n",
       "    <tr>\n",
       "      <th>3</th>\n",
       "      <td>Total</td>\n",
       "      <td>666</td>\n",
       "      <td>55.0</td>\n",
       "    </tr>\n",
       "  </tbody>\n",
       "</table>\n",
       "</div>"
      ],
      "text/plain": [
       "       characteristic  count   per\n",
       "0          no heating    518  43.0\n",
       "1  individual heating    114   9.0\n",
       "2     central heating     34   3.0\n",
       "3               Total    666  55.0"
      ]
     },
     "execution_count": 420,
     "metadata": {},
     "output_type": "execute_result"
    }
   ],
   "source": [
    "raw_data.details = replace_str(raw_data.details, 'individual heating: electric', 'individual heating')\n",
    "raw_data.details = replace_str(raw_data.details, 'individual heating: air conditioning/heat pump', 'individual heating')\n",
    "raw_data.details = replace_str(raw_data.details, 'individual heating: natural gas', 'individual heating')\n",
    "raw_data.details = replace_str(raw_data.details, 'individual heating: propane/butane gas', 'individual heating')\n",
    "raw_data.details = replace_str(raw_data.details, 'central heating: gas', 'central heating')\n",
    "\n",
    "all_details = details_desc(raw_data.details)\n",
    "all_details.query(\"characteristic.str.contains('heating')\").pipe(adorn_totals)"
   ]
  },
  {
   "cell_type": "markdown",
   "metadata": {},
   "source": [
    "Now we can extract heating info into one column 'heating'."
   ]
  },
  {
   "cell_type": "code",
   "execution_count": 421,
   "metadata": {},
   "outputs": [
    {
     "name": "stdout",
     "output_type": "stream",
     "text": [
      "[ True]\n"
     ]
    }
   ],
   "source": [
    "# Creating one separate column for each type of heating plus one unknown col if no type of heating is extracted\n",
    "raw_data['individual'] = extract_bol(raw_data.details, 'individual heating') \n",
    "raw_data['central'] = extract_bol(raw_data.details, 'central heating')\n",
    "raw_data['no'] = extract_bol(raw_data.details, 'no heating')\n",
    "raw_data['unknown'] = np.where(raw_data['individual'] + raw_data['central'] + raw_data['no'] == 0, 1, 0) \n",
    "\n",
    "print((raw_data['individual'] + raw_data['central'] + raw_data['no'] + raw_data['unknown']).unique() == 1) # checking that every row is in one of 4 categories\n",
    "raw_data['heating'] = raw_data[['individual', 'central', 'no', 'unknown']].idxmax(1) # combining all cols into one\n",
    "raw_data.heating.replace('unknown', 'no', inplace=True) # replacing 'unknown' for no. no info no heating.\n",
    "raw_data.drop(['individual', 'central', 'no', 'unknown'], axis=1, inplace=True) # droping individual cols"
   ]
  },
  {
   "cell_type": "code",
   "execution_count": 422,
   "metadata": {},
   "outputs": [
    {
     "data": {
      "text/html": [
       "<div>\n",
       "<style scoped>\n",
       "    .dataframe tbody tr th:only-of-type {\n",
       "        vertical-align: middle;\n",
       "    }\n",
       "\n",
       "    .dataframe tbody tr th {\n",
       "        vertical-align: top;\n",
       "    }\n",
       "\n",
       "    .dataframe thead th {\n",
       "        text-align: right;\n",
       "    }\n",
       "</style>\n",
       "<table border=\"1\" class=\"dataframe\">\n",
       "  <thead>\n",
       "    <tr style=\"text-align: right;\">\n",
       "      <th></th>\n",
       "      <th>variable</th>\n",
       "      <th>na_count</th>\n",
       "      <th>na_per</th>\n",
       "    </tr>\n",
       "  </thead>\n",
       "  <tbody>\n",
       "    <tr>\n",
       "      <th>21</th>\n",
       "      <td>heating</td>\n",
       "      <td>0</td>\n",
       "      <td>0.0</td>\n",
       "    </tr>\n",
       "  </tbody>\n",
       "</table>\n",
       "</div>"
      ],
      "text/plain": [
       "   variable  na_count  na_per\n",
       "21  heating         0     0.0"
      ]
     },
     "execution_count": 422,
     "metadata": {},
     "output_type": "execute_result"
    }
   ],
   "source": [
    "na_detail(raw_data).query(\"variable.str.contains('heating')\")"
   ]
  },
  {
   "cell_type": "markdown",
   "metadata": {},
   "source": [
    "Once there is no more information to extract from 'details' column we can proceed and drop it."
   ]
  },
  {
   "cell_type": "code",
   "execution_count": 423,
   "metadata": {},
   "outputs": [],
   "source": [
    "raw_data.drop(['details', 'tittle'], axis=1, inplace=True)"
   ]
  },
  {
   "cell_type": "markdown",
   "metadata": {},
   "source": [
    "### Writting final data into a .csv file"
   ]
  },
  {
   "cell_type": "code",
   "execution_count": 424,
   "metadata": {},
   "outputs": [],
   "source": [
    "raw_data.to_csv('data/clean_data_3.csv', index=False)"
   ]
  }
 ],
 "metadata": {
  "interpreter": {
   "hash": "be3ee27bd6789846cabdaaf1d172d1b46fe3799ccedac2ef9c2fd3b8a24e7656"
  },
  "kernelspec": {
   "display_name": "Python 3.7.6 ('venv': venv)",
   "language": "python",
   "name": "python3"
  },
  "language_info": {
   "codemirror_mode": {
    "name": "ipython",
    "version": 3
   },
   "file_extension": ".py",
   "mimetype": "text/x-python",
   "name": "python",
   "nbconvert_exporter": "python",
   "pygments_lexer": "ipython3",
   "version": "3.7.6"
  },
  "orig_nbformat": 4
 },
 "nbformat": 4,
 "nbformat_minor": 2
}
